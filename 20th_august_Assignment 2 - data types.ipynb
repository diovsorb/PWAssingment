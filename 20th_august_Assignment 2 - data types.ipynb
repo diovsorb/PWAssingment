{
 "cells": [
  {
   "cell_type": "markdown",
   "id": "aa63ccf4",
   "metadata": {},
   "source": [
    "# Assignment 2"
   ]
  },
  {
   "cell_type": "markdown",
   "id": "1f3d0a61",
   "metadata": {},
   "source": [
    "# String Based Assignment Problem"
   ]
  },
  {
   "cell_type": "code",
   "execution_count": 5,
   "id": "4853bc43",
   "metadata": {},
   "outputs": [
    {
     "name": "stdout",
     "output_type": "stream",
     "text": [
      "taerg si doG\n"
     ]
    }
   ],
   "source": [
    "#Write a program to reverse a string.\n",
    "str= \"God is great\"\n",
    "revstr= str[::-1]\n",
    "print(revstr)"
   ]
  },
  {
   "cell_type": "code",
   "execution_count": 7,
   "id": "c498520a",
   "metadata": {},
   "outputs": [
    {
     "name": "stdout",
     "output_type": "stream",
     "text": [
      "is palindrome\n"
     ]
    }
   ],
   "source": [
    "#Check if a string is a palindrome.\n",
    "str= \"pop\"\n",
    "revstr= str[::-1]\n",
    "if str==revstr:\n",
    "    print(\"is palindrome\")\n",
    "else:\n",
    "    print(\"is not palindrome\")"
   ]
  },
  {
   "cell_type": "code",
   "execution_count": 8,
   "id": "bc3269a8",
   "metadata": {},
   "outputs": [
    {
     "name": "stdout",
     "output_type": "stream",
     "text": [
      " GOD IS GREAT \n"
     ]
    }
   ],
   "source": [
    "#Convert a string to uppercase.\n",
    "str =\" god is great \"\n",
    "print(str.upper())"
   ]
  },
  {
   "cell_type": "code",
   "execution_count": 9,
   "id": "4f2cbbb5",
   "metadata": {},
   "outputs": [
    {
     "name": "stdout",
     "output_type": "stream",
     "text": [
      " god is great  \n"
     ]
    }
   ],
   "source": [
    "#Convert a string to lowercase.\n",
    "str =\" GOD IS GREAT  \"\n",
    "print(str.lower())"
   ]
  },
  {
   "cell_type": "code",
   "execution_count": 11,
   "id": "4c8c7bb4",
   "metadata": {},
   "outputs": [
    {
     "name": "stdout",
     "output_type": "stream",
     "text": [
      "no. of vowels: 4\n"
     ]
    }
   ],
   "source": [
    "#Count the number of vowels in a string.\n",
    "str =\" GOD IS GREAT  \"\n",
    "vcount=0\n",
    "lowstr=str.lower()\n",
    "for v in lowstr :\n",
    "    if v in \"aeiou\":\n",
    "        vcount+=1\n",
    "print(\"no. of vowels:\", vcount)"
   ]
  },
  {
   "cell_type": "code",
   "execution_count": 12,
   "id": "3eb41975",
   "metadata": {},
   "outputs": [
    {
     "name": "stdout",
     "output_type": "stream",
     "text": [
      "no. of consonants: 6\n"
     ]
    }
   ],
   "source": [
    "#Count the number of consonants in a string.\n",
    "str =\" GOD IS GREAT  \"\n",
    "ccount=0\n",
    "lowstr=str.lower()\n",
    "for v in lowstr :\n",
    "    if v in \"bcdfghkjlmnpqrstvwxyz\":\n",
    "        ccount+=1\n",
    "print(\"no. of consonants:\", ccount)"
   ]
  },
  {
   "cell_type": "code",
   "execution_count": 15,
   "id": "d78184af",
   "metadata": {},
   "outputs": [
    {
     "name": "stdout",
     "output_type": "stream",
     "text": [
      "godisgreat\n"
     ]
    }
   ],
   "source": [
    "#Remove all whitespaces from a string.\n",
    "str=\"    god  is  great      \"\n",
    "print(str.strip().replace(\"  \",\"\"))"
   ]
  },
  {
   "cell_type": "code",
   "execution_count": 16,
   "id": "638e996f",
   "metadata": {},
   "outputs": [
    {
     "name": "stdout",
     "output_type": "stream",
     "text": [
      "lenght of the string : 12\n"
     ]
    }
   ],
   "source": [
    "#Find the length of a string without using the `len()` function.\n",
    "str=\"god is great\"\n",
    "lc=0\n",
    "for v in str:\n",
    "    lc+=1\n",
    "print(\"lenght of the string :\", lc)"
   ]
  },
  {
   "cell_type": "code",
   "execution_count": 18,
   "id": "cc6911ef",
   "metadata": {},
   "outputs": [
    {
     "name": "stdout",
     "output_type": "stream",
     "text": [
      "yes\n"
     ]
    }
   ],
   "source": [
    "#Check if a string contains a specific word.\n",
    "str=\"god is great\"\n",
    "if \"is\" in str:\n",
    "    print(\"yes\")\n",
    "else:\n",
    "        print(\"no\")"
   ]
  },
  {
   "cell_type": "code",
   "execution_count": 19,
   "id": "ea93e4d0",
   "metadata": {},
   "outputs": [
    {
     "name": "stdout",
     "output_type": "stream",
     "text": [
      "god is obiously great\n"
     ]
    }
   ],
   "source": [
    "#Replace a word in a string with another word.\n",
    "str=\"god is great\"\n",
    "print(str.replace(\"is\",\"is obiously\"))"
   ]
  },
  {
   "cell_type": "code",
   "execution_count": 51,
   "id": "55457c96",
   "metadata": {},
   "outputs": [
    {
     "name": "stdout",
     "output_type": "stream",
     "text": [
      "occurence:  4\n"
     ]
    }
   ],
   "source": [
    "#Count the occurrences of a word in a string.\n",
    "str=\"god is is is is great\"\n",
    "lstr=str.split()\n",
    "ac=0\n",
    "for v in lstr:\n",
    "    if v == \"is\":\n",
    "        ac+=1\n",
    "print(\"occurence: \", ac)"
   ]
  },
  {
   "cell_type": "code",
   "execution_count": 1,
   "id": "91d147e8",
   "metadata": {},
   "outputs": [
    {
     "data": {
      "text/plain": [
       "'g'"
      ]
     },
     "execution_count": 1,
     "metadata": {},
     "output_type": "execute_result"
    }
   ],
   "source": [
    "#Find the first occurrence of a word in a string.\n",
    "l=\"god is great\"\n",
    "l[0]"
   ]
  },
  {
   "cell_type": "code",
   "execution_count": 3,
   "id": "1c359f25",
   "metadata": {},
   "outputs": [
    {
     "data": {
      "text/plain": [
       "'t'"
      ]
     },
     "execution_count": 3,
     "metadata": {},
     "output_type": "execute_result"
    }
   ],
   "source": [
    "#Find the last occurrence of a word in a string.\n",
    "l=\"god is great\"\n",
    "l[-1]"
   ]
  },
  {
   "cell_type": "code",
   "execution_count": 53,
   "id": "ca034063",
   "metadata": {},
   "outputs": [
    {
     "name": "stdout",
     "output_type": "stream",
     "text": [
      "['god', 'is', 'great']\n"
     ]
    }
   ],
   "source": [
    "#Split a string into a list of words.\n",
    "str= \"god is great\"\n",
    "print(str.split())"
   ]
  },
  {
   "cell_type": "code",
   "execution_count": 54,
   "id": "0d108829",
   "metadata": {},
   "outputs": [
    {
     "name": "stdout",
     "output_type": "stream",
     "text": [
      "god is great ,omnipresent, overpowering, all known\n"
     ]
    }
   ],
   "source": [
    "#Join a list of words into a string.\n",
    "str = \"god is great \"\n",
    "str1= \",omnipresent, overpowering, all known\"\n",
    "print(str+str1)"
   ]
  },
  {
   "cell_type": "code",
   "execution_count": 55,
   "id": "8647297a",
   "metadata": {},
   "outputs": [
    {
     "name": "stdout",
     "output_type": "stream",
     "text": [
      "_god_is_great_\n"
     ]
    }
   ],
   "source": [
    "#Convert a string where words are separated by spaces to one where words are separated by underscores.\n",
    "str= \" god is great \"\n",
    "print(str.replace(\" \",\"_\"))"
   ]
  },
  {
   "cell_type": "code",
   "execution_count": 56,
   "id": "4f3b4ddc",
   "metadata": {},
   "outputs": [
    {
     "name": "stdout",
     "output_type": "stream",
     "text": [
      "True\n"
     ]
    }
   ],
   "source": [
    "#Check if a string starts with a specific word or phrase.\n",
    "str=\"god is great\"\n",
    "print (str.startswith(\"god\"))"
   ]
  },
  {
   "cell_type": "code",
   "execution_count": 57,
   "id": "1dc2c1dc",
   "metadata": {},
   "outputs": [
    {
     "name": "stdout",
     "output_type": "stream",
     "text": [
      "False\n"
     ]
    }
   ],
   "source": [
    "#Check if a string ends with a specific word or phrase.\n",
    "str=\"god is great\"\n",
    "print(str.endswith(\"god\"))"
   ]
  },
  {
   "cell_type": "code",
   "execution_count": 59,
   "id": "daa5f4e8",
   "metadata": {},
   "outputs": [
    {
     "name": "stdout",
     "output_type": "stream",
     "text": [
      "GOD IS GREAT\n"
     ]
    }
   ],
   "source": [
    "#Convert a string to title case\n",
    "str=\"god is great\"\n",
    "print(str.upper())"
   ]
  },
  {
   "cell_type": "code",
   "execution_count": 24,
   "id": "688eaea2",
   "metadata": {},
   "outputs": [
    {
     "name": "stdout",
     "output_type": "stream",
     "text": [
      "longest: great\n",
      "index: 7\n"
     ]
    }
   ],
   "source": [
    "#Find the longest word in a string.\n",
    "str=\"god is great\"\n",
    "sstr=str.split()\n",
    "maxw=max(sstr, key=len)\n",
    "i=str.index(maxw)\n",
    "print(\"longest:\", maxw)\n",
    "print(\"index:\",i)"
   ]
  },
  {
   "cell_type": "code",
   "execution_count": 15,
   "id": "342bd9d5",
   "metadata": {},
   "outputs": [
    {
     "name": "stdout",
     "output_type": "stream",
     "text": [
      "['great', 'is', 'god']\n"
     ]
    }
   ],
   "source": [
    "#Reverse the order of words in a string.\n",
    "str2=\"god is great\"\n",
    "listr=str2.split()\n",
    "rlistr=listr[::-1]\n",
    "print(rlistr)"
   ]
  },
  {
   "cell_type": "code",
   "execution_count": 21,
   "id": "c66bc9dd",
   "metadata": {},
   "outputs": [
    {
     "data": {
      "text/plain": [
       "True"
      ]
     },
     "execution_count": 21,
     "metadata": {},
     "output_type": "execute_result"
    }
   ],
   "source": [
    "#Check if a string is alphanumeric.\n",
    "l=\"abc\"\n",
    "l.isalnum()              #  isalnum - finds alphanumeric value "
   ]
  },
  {
   "cell_type": "code",
   "execution_count": 21,
   "id": "d6a3b3cb",
   "metadata": {},
   "outputs": [
    {
     "name": "stdout",
     "output_type": "stream",
     "text": [
      "[1, 3, 2, 2, 3, 4]\n"
     ]
    }
   ],
   "source": [
    "#Extract all digits from a string.\n",
    "l=\"god132ly 234\"\n",
    "num=[]\n",
    "for w in l or l.split():\n",
    "    if w.isdigit():\n",
    "        num.append(int(w))\n",
    "print(num)"
   ]
  },
  {
   "cell_type": "code",
   "execution_count": 6,
   "id": "b202ca4b",
   "metadata": {},
   "outputs": [
    {
     "name": "stdout",
     "output_type": "stream",
     "text": [
      "godily\n"
     ]
    }
   ],
   "source": [
    "#Extract all alphabets from a string.\n",
    "l1=\"god1223554ily\"\n",
    "al=\"\"\n",
    "for w in l1:\n",
    "    if w.isalpha():\n",
    "        al+=w\n",
    "print(al.replace(\",\",\"\"))"
   ]
  },
  {
   "cell_type": "code",
   "execution_count": 5,
   "id": "cb124fd1",
   "metadata": {},
   "outputs": [
    {
     "name": "stdout",
     "output_type": "stream",
     "text": [
      "no. of uppercase: 3\n"
     ]
    }
   ],
   "source": [
    "#Count the number of uppercase letters in a string.\n",
    "str=\"God Is Great\"\n",
    "c=0\n",
    "for v in str:\n",
    "    if v in \"ABCDEFGHIJKLMNOPQRRSTUVWXYZ\":\n",
    "        c+=1\n",
    "print(\"no. of uppercase:\",c)"
   ]
  },
  {
   "cell_type": "code",
   "execution_count": 21,
   "id": "26adb9cc",
   "metadata": {},
   "outputs": [
    {
     "name": "stdout",
     "output_type": "stream",
     "text": [
      "no. of lowercase: 7\n"
     ]
    }
   ],
   "source": [
    "#Count the number of lowercase letters in a string.\n",
    "str=\"God Is Great\"\n",
    "c=0\n",
    "for v in str:\n",
    "    if v in \"abcdefghijklmnopqrrstuvwxyz\":\n",
    "        c+=1\n",
    "print(\"no. of lowercase:\",c)"
   ]
  },
  {
   "cell_type": "code",
   "execution_count": 21,
   "id": "74e59b6a",
   "metadata": {},
   "outputs": [
    {
     "name": "stdout",
     "output_type": "stream",
     "text": [
      "gOD iS gREAT\n"
     ]
    }
   ],
   "source": [
    "#Swap the case of each character in a string.\n",
    "lu=\"God Is Great\"\n",
    "print(lu.swapcase())"
   ]
  },
  {
   "cell_type": "code",
   "execution_count": 30,
   "id": "f2c57942",
   "metadata": {},
   "outputs": [
    {
     "name": "stdout",
     "output_type": "stream",
     "text": [
      " Is Great\n"
     ]
    }
   ],
   "source": [
    "#Remove a specific word from a string.\n",
    "str=\"God Is Great\"\n",
    "print(str.replace(\"God\",\"\"))"
   ]
  },
  {
   "cell_type": "code",
   "execution_count": 14,
   "id": "76b765de",
   "metadata": {},
   "outputs": [
    {
     "name": "stdout",
     "output_type": "stream",
     "text": [
      "True\n"
     ]
    }
   ],
   "source": [
    "# Check if a string is a valid email address.\n",
    "import re  \n",
    "def isvalidemail(email):\n",
    "    pattern = r'^[\\w\\.-]+@[\\w\\.-]+\\.\\w+$' \n",
    "    if re.match(pattern, email):\n",
    "        return True\n",
    "    else:\n",
    "        return False\n",
    "\n",
    "emailq = \"soji@gmail.com\"\n",
    "r = isvalidemail(emailq)\n",
    "print(r)"
   ]
  },
  {
   "cell_type": "code",
   "execution_count": 11,
   "id": "03701dfa",
   "metadata": {},
   "outputs": [
    {
     "name": "stdout",
     "output_type": "stream",
     "text": [
      "soha\n"
     ]
    }
   ],
   "source": [
    "# Extract the username from an email address string.\n",
    "def sername(email):\n",
    "    username = email.split('@')[0]\n",
    "    return username\n",
    "\n",
    "email = \"soha@gmail.com\"\n",
    "result = sername(email)\n",
    "print(result)"
   ]
  },
  {
   "cell_type": "code",
   "execution_count": 12,
   "id": "bc3ff077",
   "metadata": {},
   "outputs": [
    {
     "name": "stdout",
     "output_type": "stream",
     "text": [
      "gmail.com\n"
     ]
    }
   ],
   "source": [
    "# Extract the domain name from an email address string.\n",
    "def postname(email):\n",
    "    username = email.split('@')[1]\n",
    "    return username\n",
    "\n",
    "email = \"soha@gmail.com\"\n",
    "result = postname(email)\n",
    "print(result)"
   ]
  },
  {
   "cell_type": "code",
   "execution_count": 31,
   "id": "93d67a0d",
   "metadata": {},
   "outputs": [
    {
     "name": "stdout",
     "output_type": "stream",
     "text": [
      " god is great \n"
     ]
    }
   ],
   "source": [
    "# Replace multiple spaces in a string with a single space.\n",
    "syt=\"  god  is  great  \"\n",
    "print(syt.replace(\"  \",\" \"))"
   ]
  },
  {
   "cell_type": "code",
   "execution_count": 14,
   "id": "3aa37691",
   "metadata": {},
   "outputs": [
    {
     "name": "stdout",
     "output_type": "stream",
     "text": [
      "True\n"
     ]
    }
   ],
   "source": [
    "#Check if a string is a valid URL.\n",
    "from urllib.parse import urlparse\n",
    "def validurl(url):\n",
    "    try:\n",
    "        result = urlparse(url)\n",
    "        return all([result.scheme, result.netloc]) \n",
    "    except ValueError:\n",
    "        return False\n",
    "\n",
    "url = \"https://www.gmail.com\"\n",
    "r = validurl(url)\n",
    "print(r)"
   ]
  },
  {
   "cell_type": "code",
   "execution_count": 15,
   "id": "c02d21ab",
   "metadata": {},
   "outputs": [
    {
     "name": "stdout",
     "output_type": "stream",
     "text": [
      "Protocol : https\n"
     ]
    }
   ],
   "source": [
    "#Extract the protocol (http or https) from a URL string.\n",
    "def exotocol(url):\n",
    "    protocol_end = url.find(\"://\")\n",
    "    if protocol_end != -1:\n",
    "        protocol = url[:protocol_end]\n",
    "        return protocol\n",
    "    else:\n",
    "        return None\n",
    "url = \"https://www.gmail.com\"\n",
    "protocol = exotocol(url)\n",
    "print(\"Protocol :\", protocol)"
   ]
  },
  {
   "cell_type": "code",
   "execution_count": 20,
   "id": "63335e78",
   "metadata": {},
   "outputs": [
    {
     "name": "stdout",
     "output_type": "stream",
     "text": [
      "Counter({'g': 2, 'o': 1, 'd': 1, 'i': 1, 's': 1, 'r': 1, 'e': 1, 'a': 1, 't': 1, '.': 1})\n",
      "g:2,o:1,d:1,i:1,s:1,g:2,r:1,e:1,a:1,t:1,\n",
      "{'g': 2, 'o': 1, 'd': 1, ' ': 2, 'i': 1, 's': 1, 'r': 1, 'e': 1, 'a': 1, 't': 1}\n"
     ]
    }
   ],
   "source": [
    "#Find the frequency of each character in a string.\n",
    "from collections import Counter\n",
    "text = \"godisgreat.\"\n",
    "chc = Counter(text)\n",
    "print(chc,end='')\n",
    "print()\n",
    "lwe=\"godisgreat\"\n",
    "for i in lwe:\n",
    "    f=lwe.count(i)\n",
    "    print(str(i)+\":\"+str(f), end=\",\")\n",
    "print()\n",
    "\n",
    "\n",
    "\n",
    "lu=\"god is great\"\n",
    "di={}\n",
    "for i in lu:\n",
    "    if i in di:\n",
    "        di[i]+=1\n",
    "    else:\n",
    "        di[i]=1\n",
    "print(di)"
   ]
  },
  {
   "cell_type": "code",
   "execution_count": 24,
   "id": "44813d83",
   "metadata": {},
   "outputs": [
    {
     "name": "stdout",
     "output_type": "stream",
     "text": [
      "String without punctuation: This string with punctuation and other symbols\n"
     ]
    }
   ],
   "source": [
    "#Remove all punctuation from a string.\n",
    "import string\n",
    "text = \"This string, with: punctuation? 'and' other! symbols.\"\n",
    "# Remove punctuation from the string\n",
    "text_without_punctuation = text.translate(str.maketrans('', '', string.punctuation))\n",
    "print(\"String without punctuation:\", text_without_punctuation)"
   ]
  },
  {
   "cell_type": "code",
   "execution_count": 39,
   "id": "abdca1c0",
   "metadata": {},
   "outputs": [
    {
     "name": "stdout",
     "output_type": "stream",
     "text": [
      "yes\n"
     ]
    }
   ],
   "source": [
    "#Check if a string contains only digits.\n",
    "ly=\"121212212\"\n",
    "if ly.isnumeric():\n",
    "    print(\"yes\")\n",
    "else:\n",
    "    print(\"no\")"
   ]
  },
  {
   "cell_type": "code",
   "execution_count": 45,
   "id": "38d1e517",
   "metadata": {},
   "outputs": [
    {
     "name": "stdout",
     "output_type": "stream",
     "text": [
      "yes\n"
     ]
    }
   ],
   "source": [
    "#Check if a string contains only alphabets.\n",
    "ly2=\"god is great\"\n",
    "lyse=ly2.replace(\" \",\"\")\n",
    "if lyse.isalpha():\n",
    "    print(\"yes\")\n",
    "else:\n",
    "    print(\"no\")"
   ]
  },
  {
   "cell_type": "code",
   "execution_count": 46,
   "id": "6cd0d69c",
   "metadata": {},
   "outputs": [
    {
     "name": "stdout",
     "output_type": "stream",
     "text": [
      "yes\n"
     ]
    }
   ],
   "source": [
    "#Check if a string contains only alphabets.\n",
    "ly2=\"god is great\"\n",
    "lyse=ly2.replace(\" \",\"\")\n",
    "if lyse.isalpha():\n",
    "    print(\"yes\")\n",
    "else:\n",
    "    print(\"no\")"
   ]
  },
  {
   "cell_type": "code",
   "execution_count": 18,
   "id": "8fdb6cb5",
   "metadata": {},
   "outputs": [
    {
     "name": "stdout",
     "output_type": "stream",
     "text": [
      "['G', 'o', 'd', ' ', 'i', 's', ' ', 'g', 'r', 'e', 'a', 't']\n"
     ]
    }
   ],
   "source": [
    "#Convert a string to a list of characters.\n",
    "str=\"God is great\"\n",
    "print(list(str))"
   ]
  },
  {
   "cell_type": "code",
   "execution_count": 3,
   "id": "193fa4b5",
   "metadata": {},
   "outputs": [
    {
     "name": "stdout",
     "output_type": "stream",
     "text": [
      "yes\n"
     ]
    }
   ],
   "source": [
    "#Check if two strings are anagrams.\n",
    "k='wer'\n",
    "k2=[]\n",
    "d='rew'\n",
    "d2=[]\n",
    "for i in k :\n",
    "    k2.append(i)\n",
    "for y in d:\n",
    "    d2.append(y)\n",
    "if(all(x in k2 for x in d2)):\n",
    "    print('yes')\n",
    "else:\n",
    "    print('no')"
   ]
  },
  {
   "cell_type": "code",
   "execution_count": null,
   "id": "739f78aa",
   "metadata": {},
   "outputs": [],
   "source": [
    "#Encode a string using a Caesar cipher."
   ]
  },
  {
   "cell_type": "code",
   "execution_count": null,
   "id": "cad138e2",
   "metadata": {},
   "outputs": [],
   "source": [
    "#Decode a Caesar cipher encoded string."
   ]
  },
  {
   "cell_type": "code",
   "execution_count": 13,
   "id": "f766b2db",
   "metadata": {},
   "outputs": [
    {
     "name": "stdout",
     "output_type": "stream",
     "text": [
      "The most frequent word is: we\n",
      "Frequency: 4\n"
     ]
    }
   ],
   "source": [
    "#Find the most frequent word in a string.\n",
    "from collections import Counter\n",
    "sa='we we we rtrtrty we ry'\n",
    "q=sa.split(' ')\n",
    "wdw = Counter(q)\n",
    "most_common_word, frequency = wdw.most_common(1)[0]\n",
    "\n",
    "print(\"The most frequent word is:\", most_common_word)\n",
    "print(\"Frequency:\", frequency)"
   ]
  },
  {
   "cell_type": "code",
   "execution_count": 10,
   "id": "a9c2b63e",
   "metadata": {},
   "outputs": [
    {
     "data": {
      "text/plain": [
       "{'rtrtrty', 'ry', 'we'}"
      ]
     },
     "execution_count": 10,
     "metadata": {},
     "output_type": "execute_result"
    }
   ],
   "source": [
    "#find unique words in string\n",
    "sa='we we we rtrtrty we ry'\n",
    "d=set(sa.split(' '))\n",
    "d"
   ]
  },
  {
   "cell_type": "code",
   "execution_count": 13,
   "id": "4754c1b7",
   "metadata": {},
   "outputs": [
    {
     "data": {
      "text/plain": [
       "6"
      ]
     },
     "execution_count": 13,
     "metadata": {},
     "output_type": "execute_result"
    }
   ],
   "source": [
    "#Count the number of syllables in a string.\n",
    "cc=0\n",
    "sa='we we we rtrtrty we ry'                \n",
    "wq=set(sa)\n",
    "for i in wq:\n",
    "    cc+=1\n",
    "cc"
   ]
  },
  {
   "cell_type": "code",
   "execution_count": 23,
   "id": "ad5b6442",
   "metadata": {},
   "outputs": [
    {
     "name": "stdout",
     "output_type": "stream",
     "text": [
      "String contains special characters.\n"
     ]
    }
   ],
   "source": [
    "#Check if a string contains any special characters.\n",
    "import re\n",
    "\n",
    "text = \"This string contains special characters like !,@,#,$,%\"\n",
    "pattern = re.compile(r'[@_!#$%^&*()<>?/\\|}{~:]')\n",
    "if pattern.search(text):\n",
    "    print(\"String contains special characters.\")\n",
    "else:\n",
    "    print(\"String does not contain special characters.\")"
   ]
  },
  {
   "cell_type": "code",
   "execution_count": 5,
   "id": "833b1f89",
   "metadata": {},
   "outputs": [
    {
     "name": "stdout",
     "output_type": "stream",
     "text": [
      "['god', 'is']\n"
     ]
    }
   ],
   "source": [
    "#Remove the nth word from a string.\n",
    "str=\"god is great\"\n",
    "str1=str3.split()\n",
    "str2=list(str1)\n",
    "str2.pop(-1)\n",
    "print(str2)"
   ]
  },
  {
   "cell_type": "code",
   "execution_count": 1,
   "id": "29e77921",
   "metadata": {},
   "outputs": [
    {
     "name": "stdout",
     "output_type": "stream",
     "text": [
      "god is great omnipresent\n"
     ]
    }
   ],
   "source": [
    "#Insert a word at the nth position in a string.\n",
    "str =\"god is great\"\n",
    "print(str+\" omnipresent\")"
   ]
  },
  {
   "cell_type": "code",
   "execution_count": 6,
   "id": "3a300d7b",
   "metadata": {},
   "outputs": [
    {
     "data": {
      "text/plain": [
       "[['Name', 'Age', 'Location'],\n",
       " ['Alice', '25', 'New York'],\n",
       " ['Bob', '30', 'Los Angeles'],\n",
       " ['Carol', '35', 'Chicago'],\n",
       " ['']]"
      ]
     },
     "execution_count": 6,
     "metadata": {},
     "output_type": "execute_result"
    }
   ],
   "source": [
    "#Convert a CSV string to a list of lists.\n",
    "cs = \"\"\"Name,Age,Location\n",
    "Alice,25,New York\n",
    "Bob,30,Los Angeles\n",
    "Carol,35,Chicago\n",
    "\"\"\"\n",
    "ge=[]\n",
    "v=cs.split('\\n')\n",
    "for li in v:\n",
    "        \n",
    "    fi = li.split(',')\n",
    "\n",
    "        \n",
    "    ge.append(fi)\n",
    "\n",
    "ge"
   ]
  },
  {
   "cell_type": "markdown",
   "id": "4d75ebe4",
   "metadata": {},
   "source": [
    "# List Based Practice Problem :"
   ]
  },
  {
   "cell_type": "code",
   "execution_count": 38,
   "id": "24fd780a",
   "metadata": {},
   "outputs": [
    {
     "data": {
      "text/plain": [
       "[1, 2, 3, 4, 5, 6, 7, 8, 9, 10]"
      ]
     },
     "execution_count": 38,
     "metadata": {},
     "output_type": "execute_result"
    }
   ],
   "source": [
    "#Create a list with integers from 1 to 10.\n",
    "l=[1,2,3,4,5,6,7,8,9,10]\n",
    "l"
   ]
  },
  {
   "cell_type": "code",
   "execution_count": 41,
   "id": "989e973a",
   "metadata": {},
   "outputs": [
    {
     "name": "stdout",
     "output_type": "stream",
     "text": [
      "length of the list:  10\n"
     ]
    }
   ],
   "source": [
    "#Find the length of a list without using the `len()` function.\n",
    "l=[1,2,3,4,5,6,7,8,9,10]\n",
    "c=0\n",
    "for v in l:\n",
    "    c+=1\n",
    "print(\"length of the list: \", c)"
   ]
  },
  {
   "cell_type": "code",
   "execution_count": 52,
   "id": "0e100ada",
   "metadata": {},
   "outputs": [
    {
     "name": "stdout",
     "output_type": "stream",
     "text": [
      "[1, 2, 3, 4, 5, 6, 7, 8, 9, 10, 100]\n"
     ]
    }
   ],
   "source": [
    "#Append an element to the end of a list.\n",
    "l=[1,2,3,4,5,6,7,8,9,10]\n",
    "l.append(100)\n",
    "print(l)"
   ]
  },
  {
   "cell_type": "code",
   "execution_count": 55,
   "id": "34ca01e1",
   "metadata": {},
   "outputs": [
    {
     "data": {
      "text/plain": [
       "[1, 2, 3, 33, 4, 5, 6, 7, 8, 9, 10]"
      ]
     },
     "execution_count": 55,
     "metadata": {},
     "output_type": "execute_result"
    }
   ],
   "source": [
    "#Insert an element at a specific index in a list.\n",
    "l=[1,2,3,4,5,6,7,8,9,10]\n",
    "l.insert(3,33)            #insert( index [1st argument], value [2nd argument])\n",
    "l"
   ]
  },
  {
   "cell_type": "code",
   "execution_count": 59,
   "id": "49de07c6",
   "metadata": {},
   "outputs": [
    {
     "data": {
      "text/plain": [
       "[1, 2, 4, 5, 6, 7, 8, 9, 10]"
      ]
     },
     "execution_count": 59,
     "metadata": {},
     "output_type": "execute_result"
    }
   ],
   "source": [
    "#Remove an element from a list by its value.\n",
    "l=[1,2,3,4,5,6,7,8,9,10]\n",
    "l.remove(3)               #remove() - eliminates elements from list\n",
    "l"
   ]
  },
  {
   "cell_type": "code",
   "execution_count": 60,
   "id": "a819082e",
   "metadata": {},
   "outputs": [
    {
     "data": {
      "text/plain": [
       "[1, 2, 3, 5, 6, 7, 8, 9, 10]"
      ]
     },
     "execution_count": 60,
     "metadata": {},
     "output_type": "execute_result"
    }
   ],
   "source": [
    "#Remove an element from a list by its index.\n",
    "l=[1,2,3,4,5,6,7,8,9,10]\n",
    "l.pop(3)                  #pop - eliminates from index of list\n",
    "l"
   ]
  },
  {
   "cell_type": "code",
   "execution_count": 63,
   "id": "f1f67c72",
   "metadata": {},
   "outputs": [
    {
     "name": "stdout",
     "output_type": "stream",
     "text": [
      "No\n"
     ]
    }
   ],
   "source": [
    "#Check if an element exists in a list.\n",
    "l=[1,2,3,4,5,6,7,8,9,10]\n",
    "if 100 in l:\n",
    " print(\"yes\")\n",
    "else:\n",
    "    print(\"No\")"
   ]
  },
  {
   "cell_type": "code",
   "execution_count": 69,
   "id": "dd967bc6",
   "metadata": {},
   "outputs": [
    {
     "data": {
      "text/plain": [
       "0"
      ]
     },
     "execution_count": 69,
     "metadata": {},
     "output_type": "execute_result"
    }
   ],
   "source": [
    "#Find the index of the first occurrence of an element in a list.\n",
    "l=[1,2,3,4,5,6,7,8,9,10]\n",
    "l.index(1)"
   ]
  },
  {
   "cell_type": "code",
   "execution_count": 70,
   "id": "b472ddca",
   "metadata": {},
   "outputs": [
    {
     "data": {
      "text/plain": [
       "7"
      ]
     },
     "execution_count": 70,
     "metadata": {},
     "output_type": "execute_result"
    }
   ],
   "source": [
    "#Count the occurrences of an element in a list.\n",
    "l=[1,2,3,4,5,5,5,5,5,5,5,6,7,8,9,10]\n",
    "l.count(5)"
   ]
  },
  {
   "cell_type": "code",
   "execution_count": 71,
   "id": "a0a9e84f",
   "metadata": {},
   "outputs": [
    {
     "name": "stdout",
     "output_type": "stream",
     "text": [
      "[10, 9, 8, 7, 6, 5, 4, 3, 2, 1]\n"
     ]
    }
   ],
   "source": [
    "#Reverse the order of elements in a list.\n",
    "l=[1,2,3,4,5,6,7,8,9,10]\n",
    "print(l[::-1])"
   ]
  },
  {
   "cell_type": "code",
   "execution_count": 77,
   "id": "e71242bb",
   "metadata": {},
   "outputs": [
    {
     "data": {
      "text/plain": [
       "[1, 2, 3, 4, 5, 6, 7, 8, 9, 10]"
      ]
     },
     "execution_count": 77,
     "metadata": {},
     "output_type": "execute_result"
    }
   ],
   "source": [
    "#Sort a list in ascending order.\n",
    "l=[10, 9, 8, 7, 6, 5, 4, 3, 2, 1]\n",
    "l.sort()\n",
    "l"
   ]
  },
  {
   "cell_type": "code",
   "execution_count": 81,
   "id": "488ffa83",
   "metadata": {},
   "outputs": [
    {
     "name": "stdout",
     "output_type": "stream",
     "text": [
      "[10, 9, 8, 7, 6, 5, 4, 3, 2, 1]\n"
     ]
    }
   ],
   "source": [
    "#Sort a list in descending order.\n",
    "l=[1,2,4,3,6,5,8,7,9,10]\n",
    "l.sort()\n",
    "print(l[::-1])"
   ]
  },
  {
   "cell_type": "code",
   "execution_count": 113,
   "id": "c8137447",
   "metadata": {},
   "outputs": [
    {
     "name": "stdout",
     "output_type": "stream",
     "text": [
      "[2, 4, 6, 8, 10, 2, 4, 6, 8, 20]\n"
     ]
    }
   ],
   "source": [
    "#Create a list of even numbers from 1 to 20.\n",
    "l=[1,2,3,4,5,6,7,8,9,10,1,2,3,4,5,6,7,8,9,20]\n",
    "l2=[]\n",
    "for v in l:\n",
    " if v%2==0:\n",
    "    l2.append(v)\n",
    "print(l2)"
   ]
  },
  {
   "cell_type": "code",
   "execution_count": 114,
   "id": "d61684f0",
   "metadata": {},
   "outputs": [
    {
     "name": "stdout",
     "output_type": "stream",
     "text": [
      "[1, 3, 5, 7, 9, 1, 3, 5, 7, 9]\n"
     ]
    }
   ],
   "source": [
    "#Create a list of odd numbers from 1 to 20.\n",
    "l=[1,2,3,4,5,6,7,8,9,10,1,2,3,4,5,6,7,8,9,20]\n",
    "l2=[]\n",
    "for v in l:\n",
    " if v%2!=0:\n",
    "    l2.append(v)\n",
    "print(l2)"
   ]
  },
  {
   "cell_type": "code",
   "execution_count": 99,
   "id": "98639bbc",
   "metadata": {},
   "outputs": [
    {
     "name": "stdout",
     "output_type": "stream",
     "text": [
      "sum of list : 120\n"
     ]
    }
   ],
   "source": [
    "#Find the sum of all elements in a list.\n",
    "l=[1,2,3,4,5,6,7,8,9,10,1,2,3,4,5,6,7,8,9,20]\n",
    "l1=0\n",
    "for v in l:\n",
    "    l1+=v\n",
    "print(\"sum of list :\", l1)"
   ]
  },
  {
   "cell_type": "code",
   "execution_count": 100,
   "id": "b00e374e",
   "metadata": {},
   "outputs": [
    {
     "name": "stdout",
     "output_type": "stream",
     "text": [
      "20\n"
     ]
    }
   ],
   "source": [
    "#Find the maximum value in a list.\n",
    "l=[1,2,3,4,5,6,7,8,9,10,1,2,3,4,5,6,7,8,9,20]\n",
    "print(max(l))"
   ]
  },
  {
   "cell_type": "code",
   "execution_count": 101,
   "id": "1b83c887",
   "metadata": {},
   "outputs": [
    {
     "name": "stdout",
     "output_type": "stream",
     "text": [
      "1\n"
     ]
    }
   ],
   "source": [
    "#Find the minimum value in a list.\n",
    "l=[1,2,3,4,5,6,7,8,9,10,1,2,3,4,5,6,7,8,9,20]\n",
    "print(min(l))"
   ]
  },
  {
   "cell_type": "code",
   "execution_count": 103,
   "id": "a99b4a02",
   "metadata": {},
   "outputs": [
    {
     "name": "stdout",
     "output_type": "stream",
     "text": [
      "1 4 16 9 36 25 64 49 81 100 "
     ]
    }
   ],
   "source": [
    "#Create a list of squares of numbers from 1 to 10.\n",
    "l=[1,2,4,3,6,5,8,7,9,10]\n",
    "for v in l:\n",
    " print(v*v , end=\" \")"
   ]
  },
  {
   "cell_type": "code",
   "execution_count": 111,
   "id": "7382faec",
   "metadata": {},
   "outputs": [
    {
     "name": "stdout",
     "output_type": "stream",
     "text": [
      "[11, 30, 25, 19, 9]\n"
     ]
    }
   ],
   "source": [
    "#Create a list of random numbers.\n",
    "import random\n",
    "rlist=[]\n",
    "for i in range (5):\n",
    "    n=random.randint(1,50)           # randint - helps generate random series of no.\n",
    "    rlist.append(n)\n",
    "print (rlist)"
   ]
  },
  {
   "cell_type": "code",
   "execution_count": 112,
   "id": "72fb6539",
   "metadata": {},
   "outputs": [
    {
     "data": {
      "text/plain": [
       "[1, 2, 3, 4, 5, 6, 7, 8, 9, 10]"
      ]
     },
     "execution_count": 112,
     "metadata": {},
     "output_type": "execute_result"
    }
   ],
   "source": [
    "#Remove duplicates from a list.\n",
    "l=[1,2,3,4,5,5,5,5,5,5,5,6,7,8,9,10]\n",
    "l1=set(l)\n",
    "l2=list(l1)\n",
    "l2"
   ]
  },
  {
   "cell_type": "code",
   "execution_count": 29,
   "id": "2e93d890",
   "metadata": {},
   "outputs": [
    {
     "name": "stdout",
     "output_type": "stream",
     "text": [
      "{9}\n"
     ]
    }
   ],
   "source": [
    "#Find the common elements between two lists.\n",
    "l1=[1, 2, 3, 4, 5, 6, 7, 8, 9, 10]\n",
    "l2=[11, 30, 25, 19, 9]\n",
    "lw1=set(l1)\n",
    "lw2=set(l2)\n",
    "if lw1 & lw2:\n",
    "    print(lw1 & lw2)\n",
    "else:\n",
    "    print(\"none\")"
   ]
  },
  {
   "cell_type": "code",
   "execution_count": 4,
   "id": "600d3a0e",
   "metadata": {},
   "outputs": [
    {
     "name": "stdout",
     "output_type": "stream",
     "text": [
      "[1, 2, 3, 4, 5, 6, 7, 8, 10]\n"
     ]
    }
   ],
   "source": [
    "#Find the difference between two lists.\n",
    "l1=[1, 2, 3, 4, 5, 6, 7, 8, 9, 10]\n",
    "l2=[11, 30, 25, 19, 9]\n",
    "q=[]\n",
    "for i in l1:\n",
    "    if i not in l2:\n",
    "        q.append(i)\n",
    "print(q)"
   ]
  },
  {
   "cell_type": "code",
   "execution_count": 38,
   "id": "e8cfbaee",
   "metadata": {},
   "outputs": [
    {
     "data": {
      "text/plain": [
       "[1, 2, 3, 4, 5, 6, 7, 8, 9, 10, 11, 30, 25, 19, 9]"
      ]
     },
     "execution_count": 38,
     "metadata": {},
     "output_type": "execute_result"
    }
   ],
   "source": [
    "#Merge two lists.\n",
    "l1=[1, 2, 3, 4, 5, 6, 7, 8, 9, 10]\n",
    "l2=[11, 30, 25, 19, 9]\n",
    "l1= l1 + l2\n",
    "l1"
   ]
  },
  {
   "cell_type": "code",
   "execution_count": 118,
   "id": "d9c43be2",
   "metadata": {},
   "outputs": [
    {
     "name": "stdout",
     "output_type": "stream",
     "text": [
      "[2, 4, 6, 8, 10, 12, 14, 16, 18, 20]\n"
     ]
    }
   ],
   "source": [
    "#Multiply all elements in a list by 2.\n",
    "l1=[1, 2, 3, 4, 5, 6, 7, 8, 9, 10]\n",
    "l2=[]\n",
    "for r in l1:\n",
    "    v=r*2\n",
    "    l2.append(v)\n",
    "print(l2)"
   ]
  },
  {
   "cell_type": "code",
   "execution_count": 119,
   "id": "a98ddecd",
   "metadata": {},
   "outputs": [
    {
     "name": "stdout",
     "output_type": "stream",
     "text": [
      "[2, 4, 6, 8, 10, 2, 4, 6, 8, 20]\n"
     ]
    }
   ],
   "source": [
    "#Filter out all even numbers from a list.\n",
    "l=[1,2,3,4,5,6,7,8,9,10,1,2,3,4,5,6,7,8,9,20]\n",
    "l2=[]\n",
    "for v in l:\n",
    " if v%2==0:\n",
    "    l2.append(v)\n",
    "print(l2)"
   ]
  },
  {
   "cell_type": "code",
   "execution_count": 13,
   "id": "dba6d3cb",
   "metadata": {},
   "outputs": [
    {
     "data": {
      "text/plain": [
       "['5', '6', ',', '4', '5', '6', ',', '2', '3', '4']"
      ]
     },
     "execution_count": 13,
     "metadata": {},
     "output_type": "execute_result"
    }
   ],
   "source": [
    "#Convert a list of strings to a list of integers.\n",
    "l1212=\"56,456,234\"\n",
    "list(l1212)"
   ]
  },
  {
   "cell_type": "code",
   "execution_count": 15,
   "id": "efb994eb",
   "metadata": {},
   "outputs": [
    {
     "data": {
      "text/plain": [
       "str"
      ]
     },
     "execution_count": 15,
     "metadata": {},
     "output_type": "execute_result"
    }
   ],
   "source": [
    "#Convert a list of integers to a list of strings.\n",
    "il=[1,2,34,5,6]\n",
    "str(il)\n",
    "type(str(il))"
   ]
  },
  {
   "cell_type": "code",
   "execution_count": 5,
   "id": "527ff262",
   "metadata": {},
   "outputs": [
    {
     "data": {
      "text/plain": [
       "[3, 4, 5, 5, 1, 2, 3]"
      ]
     },
     "execution_count": 5,
     "metadata": {},
     "output_type": "execute_result"
    }
   ],
   "source": [
    "#Flatten a nested list.\n",
    "wt=[3,4,5,5]\n",
    "wq=[1,2,3]\n",
    "q=wt+wq\n",
    "q"
   ]
  },
  {
   "cell_type": "code",
   "execution_count": 4,
   "id": "2fc58ec9",
   "metadata": {},
   "outputs": [
    {
     "name": "stdout",
     "output_type": "stream",
     "text": [
      "[0, 1, 1, 2, 3, 5, 8, 13, 21, 34]\n"
     ]
    }
   ],
   "source": [
    "#Create a list of the first 10 Fibonacci numbers.\n",
    "q=[0,1]\n",
    "a=0\n",
    "b=1\n",
    "for i in range(2,10):\n",
    "    c=a+b\n",
    "    a=b\n",
    "    b=c\n",
    "    q.append(c)\n",
    "print(q)"
   ]
  },
  {
   "cell_type": "code",
   "execution_count": 128,
   "id": "d09be36a",
   "metadata": {},
   "outputs": [
    {
     "name": "stdout",
     "output_type": "stream",
     "text": [
      "no\n"
     ]
    }
   ],
   "source": [
    "#Check if a list is sorted.\n",
    "l=[11, 30, 25, 19, 9]\n",
    "l1=l.sort()\n",
    "if l1==l:\n",
    "    print(\"yes\")\n",
    "else:\n",
    "    print(\"no\")"
   ]
  },
  {
   "cell_type": "code",
   "execution_count": 10,
   "id": "4ce997b5",
   "metadata": {},
   "outputs": [
    {
     "data": {
      "text/plain": [
       "[1, 2, 3, 4, 5]"
      ]
     },
     "execution_count": 10,
     "metadata": {},
     "output_type": "execute_result"
    }
   ],
   "source": [
    "#Rotate a list to the left by `n` positions.\n",
    "o=[1,2,3,4,5]\n",
    "o[:2]+o[2:]"
   ]
  },
  {
   "cell_type": "code",
   "execution_count": 11,
   "id": "b6136344",
   "metadata": {},
   "outputs": [
    {
     "data": {
      "text/plain": [
       "[3, 4, 5, 1, 2]"
      ]
     },
     "execution_count": 11,
     "metadata": {},
     "output_type": "execute_result"
    }
   ],
   "source": [
    "#Rotate a list to the right by `n` positions.\n",
    "o=[1,2,3,4,5]\n",
    "o[2:]+o[:2]"
   ]
  },
  {
   "cell_type": "code",
   "execution_count": 4,
   "id": "1802c9ab",
   "metadata": {},
   "outputs": [
    {
     "name": "stdout",
     "output_type": "stream",
     "text": [
      "[1, 2, 3, 5, 7, 11, 13, 17, 19, 23, 29, 31, 37, 41, 43, 47]\n"
     ]
    }
   ],
   "source": [
    "#Create a list of prime numbers up to 50.\n",
    "l1=[1,2,3]\n",
    "for v in range (4,51):      # iterates value from 4 to 50 \n",
    "    for u in range(2,v):      # finds the multipl \n",
    "        if (v%u==0):\n",
    "           break\n",
    "    else:\n",
    "         l1.append(v)\n",
    "print(l1)"
   ]
  },
  {
   "cell_type": "code",
   "execution_count": 22,
   "id": "228b156d",
   "metadata": {},
   "outputs": [
    {
     "name": "stdout",
     "output_type": "stream",
     "text": [
      "['[1,', '2,', '3,', '5,', '7,', '11,', '13,', '17,', '19,', '23,', '29,', '31,', '37,', '41,', '43,', '47]'] "
     ]
    }
   ],
   "source": [
    "#Split a list into chunks of size `n`\n",
    "l=[1, 2, 3, 5, 7, 11, 13, 17, 19, 23, 29, 31, 37, 41, 43, 47]\n",
    "q=str(l)\n",
    "print(list(q.split()),end=' ')"
   ]
  },
  {
   "cell_type": "code",
   "execution_count": 148,
   "id": "32ce60a8",
   "metadata": {},
   "outputs": [
    {
     "name": "stdout",
     "output_type": "stream",
     "text": [
      "43\n"
     ]
    }
   ],
   "source": [
    "#Find the second largest number in a list.\n",
    "l=[1, 2, 3, 5, 7, 11, 13, 17, 19, 23, 29, 31, 37, 41, 43, 47]\n",
    "v=max(l)\n",
    "l.remove(v)\n",
    "print(max(l))"
   ]
  },
  {
   "cell_type": "code",
   "execution_count": 150,
   "id": "dcf65cb8",
   "metadata": {},
   "outputs": [
    {
     "name": "stdout",
     "output_type": "stream",
     "text": [
      "[1, 4, 16, 9, 36, 25, 64, 49, 81, 100]\n"
     ]
    }
   ],
   "source": [
    "#Replace every element in a list with its square.\n",
    "l=[1,2,4,3,6,5,8,7,9,10]\n",
    "we=[]\n",
    "for v in l:\n",
    "    n=v*v\n",
    "    we.append(n)\n",
    "print(we)"
   ]
  },
  {
   "cell_type": "code",
   "execution_count": 22,
   "id": "fa8479ab",
   "metadata": {},
   "outputs": [
    {
     "name": "stdout",
     "output_type": "stream",
     "text": [
      "{'h': 0, 'r': 1, 'b': 2}\n",
      "{0: 'h', 1: 'r', 2: 't'}\n"
     ]
    }
   ],
   "source": [
    "#Convert a list to a dictionary where list elements become keys and their indices become values.\n",
    "l=[\"h\",\"r\",\"b\"]\n",
    "l4=[0,1,2]\n",
    "print(dict(zip(l,l4)))   # zip() - function to efficiently perform parallel iteration over multiple iterables.\n",
    "\n",
    "\n",
    "ls=[\"h\",\"r\",\"t\"]\n",
    "print(dict(enumerate(ls)))         #enumerate() - will automatically keep track of the order in which items are accessed, which gives us the index value without the need to maintain a separate index variable.\n"
   ]
  },
  {
   "cell_type": "code",
   "execution_count": 29,
   "id": "4f0395d3",
   "metadata": {},
   "outputs": [
    {
     "data": {
      "text/plain": [
       "[2, 4, 1, 3, 5]"
      ]
     },
     "execution_count": 29,
     "metadata": {},
     "output_type": "execute_result"
    }
   ],
   "source": [
    "#Shuffle the elements of a list randomly.\n",
    "import random\n",
    "\n",
    "lo=[1,2,3,4,5]\n",
    "random.shuffle(lo)\n",
    "lo"
   ]
  },
  {
   "cell_type": "code",
   "execution_count": 9,
   "id": "2cfb5a99",
   "metadata": {},
   "outputs": [
    {
     "name": "stdout",
     "output_type": "stream",
     "text": [
      "[1, 2, 6, 24, 120, 720, 5040, 40320, 362880, 3628800]\n"
     ]
    }
   ],
   "source": [
    "#Create a list of the first 10 factorial numbers.\n",
    "\n",
    "lew=[1,2]\n",
    "for i in range(3,11):\n",
    "     fac=1\n",
    "     for y in range(1,i+1):                \n",
    "            fac=fac*y\n",
    "     lew.append(fac)\n",
    "print(lew)"
   ]
  },
  {
   "cell_type": "code",
   "execution_count": 24,
   "id": "ccc3071c",
   "metadata": {},
   "outputs": [
    {
     "name": "stdout",
     "output_type": "stream",
     "text": [
      "yes\n"
     ]
    }
   ],
   "source": [
    "#Check if two lists have at least one element in common.\n",
    "lo = [1,2,3,4]\n",
    "ro=[1]\n",
    "if(all(x in lo for x in ro)):\n",
    "        print(\"yes\")\n",
    "else:\n",
    "    print(\"no\")"
   ]
  },
  {
   "cell_type": "code",
   "execution_count": 34,
   "id": "8a1ae8a3",
   "metadata": {},
   "outputs": [
    {
     "data": {
      "text/plain": [
       "[]"
      ]
     },
     "execution_count": 34,
     "metadata": {},
     "output_type": "execute_result"
    }
   ],
   "source": [
    "#Remove all elements from a list.\n",
    "k= ['god', 'is', 'great']\n",
    "k.clear()\n",
    "k"
   ]
  },
  {
   "cell_type": "code",
   "execution_count": 6,
   "id": "29e4389c",
   "metadata": {},
   "outputs": [
    {
     "name": "stdout",
     "output_type": "stream",
     "text": [
      "[3, 4]\n"
     ]
    }
   ],
   "source": [
    "#Replace negative numbers in a list with 0.\n",
    "k=[-1,-2,3,4,-6]\n",
    "l=[]\n",
    "for i in k:\n",
    "    if i>0 :\n",
    "        l.append(i)\n",
    "print(l)"
   ]
  },
  {
   "cell_type": "code",
   "execution_count": 38,
   "id": "e5af30ed",
   "metadata": {},
   "outputs": [
    {
     "data": {
      "text/plain": [
       "['god', 'is', 'great']"
      ]
     },
     "execution_count": 38,
     "metadata": {},
     "output_type": "execute_result"
    }
   ],
   "source": [
    "#Convert a string into a list of words.\n",
    "lq=\"god is great\"\n",
    "lq.split()"
   ]
  },
  {
   "cell_type": "code",
   "execution_count": 20,
   "id": "54ad5975",
   "metadata": {},
   "outputs": [
    {
     "data": {
      "text/plain": [
       "\"['god', 'is', 'great']\""
      ]
     },
     "execution_count": 20,
     "metadata": {},
     "output_type": "execute_result"
    }
   ],
   "source": [
    "#Convert a list of words into a string.\n",
    "lq=['god', 'is', 'great']\n",
    "str(lq)"
   ]
  },
  {
   "cell_type": "code",
   "execution_count": 22,
   "id": "2e297202",
   "metadata": {},
   "outputs": [
    {
     "name": "stdout",
     "output_type": "stream",
     "text": [
      "[1, 2, 4, 8, 16, 32]\n"
     ]
    }
   ],
   "source": [
    "#Create a list of the first `n` powers of 2.\n",
    "lto=[]\n",
    "for i in range(6):\n",
    "    p=2**i\n",
    "    lto.append(p)\n",
    "print(lto)"
   ]
  },
  {
   "cell_type": "code",
   "execution_count": 25,
   "id": "40f5adf9",
   "metadata": {},
   "outputs": [
    {
     "name": "stdout",
     "output_type": "stream",
     "text": [
      "reew\n"
     ]
    }
   ],
   "source": [
    "#Find the longest string in a list of strings.\n",
    "lu = [\"we\",\"reew\",\"bee\"]\n",
    "print(max(lu, key=len))"
   ]
  },
  {
   "cell_type": "code",
   "execution_count": 26,
   "id": "bc709282",
   "metadata": {},
   "outputs": [
    {
     "name": "stdout",
     "output_type": "stream",
     "text": [
      "we\n"
     ]
    }
   ],
   "source": [
    "#Find the shortest string in a list of strings.\n",
    "lu = [\"we\",\"reew\",\"bee\"]\n",
    "print(min(lu, key=len))"
   ]
  },
  {
   "cell_type": "code",
   "execution_count": 2,
   "id": "14f2eb21",
   "metadata": {},
   "outputs": [
    {
     "name": "stdout",
     "output_type": "stream",
     "text": [
      "enter no.: 7\n",
      "[1, 3, 6, 10, 15, 21, 28]\n"
     ]
    }
   ],
   "source": [
    "#Create a list of the first `n` triangular numbers.\n",
    "r=[]\n",
    "n=int(input(\"enter no.: \"))\n",
    "for i in range(1,n+1):\n",
    "    tn=(i*(i+1))//2\n",
    "    r.append(tn)\n",
    "print(r)"
   ]
  },
  {
   "cell_type": "code",
   "execution_count": 33,
   "id": "109eaee6",
   "metadata": {},
   "outputs": [
    {
     "name": "stdout",
     "output_type": "stream",
     "text": [
      "no\n"
     ]
    }
   ],
   "source": [
    "#Check if a list contains another list as a subsequence.\n",
    "lu = [\"we\",\"reew\",\"bee\"]\n",
    "wu = [\"fe\"]\n",
    "if(all( x in lu for x in wu)):    # all(x in obj1 for x in obj2) - Checks for all the elements of one list for existence in other lists.\n",
    "    print(\"yess\")\n",
    "else:\n",
    "    print(\"no\")"
   ]
  },
  {
   "cell_type": "code",
   "execution_count": 47,
   "id": "a4cf9fbf",
   "metadata": {},
   "outputs": [
    {
     "data": {
      "text/plain": [
       "[3, 4, 1, 2]"
      ]
     },
     "execution_count": 47,
     "metadata": {},
     "output_type": "execute_result"
    }
   ],
   "source": [
    "#Swap two elements in a list by their indices.\n",
    "q=[1,2,3,4]\n",
    "r = q[2:] + q[:2]\n",
    "r"
   ]
  },
  {
   "cell_type": "markdown",
   "id": "480578cf",
   "metadata": {},
   "source": [
    "# TUPLES based practice problems"
   ]
  },
  {
   "cell_type": "code",
   "execution_count": 9,
   "id": "3feecf99",
   "metadata": {},
   "outputs": [
    {
     "data": {
      "text/plain": [
       "(1, 2, 3, 4, 5)"
      ]
     },
     "execution_count": 9,
     "metadata": {},
     "output_type": "execute_result"
    }
   ],
   "source": [
    "#1. Create a tuple with integers from 1 to 5.\n",
    "t=(1,2,3,4,5)\n",
    "t"
   ]
  },
  {
   "cell_type": "code",
   "execution_count": 10,
   "id": "99f54739",
   "metadata": {},
   "outputs": [
    {
     "name": "stdout",
     "output_type": "stream",
     "text": [
      "3\n"
     ]
    }
   ],
   "source": [
    "#2. Access the third element of a tuple.\n",
    "t=(1,2,3,4,5)\n",
    "print(t[2])"
   ]
  },
  {
   "cell_type": "code",
   "execution_count": 11,
   "id": "497fe9dc",
   "metadata": {},
   "outputs": [
    {
     "name": "stdout",
     "output_type": "stream",
     "text": [
      "5\n"
     ]
    }
   ],
   "source": [
    "#3. Find the length of a tuple without using the `len()` function.\n",
    "t=(1,2,3,4,5)\n",
    "v=0\n",
    "for i in t:\n",
    "    v+=1\n",
    "print(v)"
   ]
  },
  {
   "cell_type": "code",
   "execution_count": 18,
   "id": "d9bd4092",
   "metadata": {},
   "outputs": [
    {
     "data": {
      "text/plain": [
       "4"
      ]
     },
     "execution_count": 18,
     "metadata": {},
     "output_type": "execute_result"
    }
   ],
   "source": [
    "#4. Count the occurrences of an element in a tuple.\n",
    "t=(1,2,3,4,4,4,4,5)\n",
    "t.count(4)"
   ]
  },
  {
   "cell_type": "code",
   "execution_count": 20,
   "id": "99e60f35",
   "metadata": {},
   "outputs": [
    {
     "name": "stdout",
     "output_type": "stream",
     "text": [
      "{0: 1, 1: 2, 2: 3, 3: 4, 4: 5}\n"
     ]
    }
   ],
   "source": [
    "#5. Find the index of the first occurrence of an element in a tuple.\n",
    "t=(1,2,3,4,5)\n",
    "print(t[0])"
   ]
  },
  {
   "cell_type": "code",
   "execution_count": 24,
   "id": "ac9f38e1",
   "metadata": {},
   "outputs": [
    {
     "name": "stdout",
     "output_type": "stream",
     "text": [
      "no\n"
     ]
    }
   ],
   "source": [
    "#6. Check if an element exists in a tuple.\n",
    "t=(1,2,3,4,5)\n",
    "v=7\n",
    "if v in t :\n",
    "    print(\"yes\")\n",
    "else:\n",
    "    print(\"no\")"
   ]
  },
  {
   "cell_type": "code",
   "execution_count": 25,
   "id": "621646c3",
   "metadata": {},
   "outputs": [
    {
     "data": {
      "text/plain": [
       "[1, 2, 3, 4, 5]"
      ]
     },
     "execution_count": 25,
     "metadata": {},
     "output_type": "execute_result"
    }
   ],
   "source": [
    "#7. Convert a tuple to a list.\n",
    "t=(1,2,3,4,5)\n",
    "o=list(t)\n",
    "o"
   ]
  },
  {
   "cell_type": "code",
   "execution_count": 26,
   "id": "03203244",
   "metadata": {},
   "outputs": [
    {
     "data": {
      "text/plain": [
       "(1, 2, 3, 4, 5)"
      ]
     },
     "execution_count": 26,
     "metadata": {},
     "output_type": "execute_result"
    }
   ],
   "source": [
    "#8. Convert a list to a tuple.\n",
    "y = [1, 2, 3, 4, 5]\n",
    "i= tuple(y)\n",
    "i"
   ]
  },
  {
   "cell_type": "code",
   "execution_count": 17,
   "id": "622ce6f2",
   "metadata": {},
   "outputs": [
    {
     "name": "stdout",
     "output_type": "stream",
     "text": [
      "x 1\n",
      "y 2\n",
      "r 3\n",
      "w 4\n",
      "q 5\n"
     ]
    }
   ],
   "source": [
    "#9. Unpack the elements of a tuple into variables.\n",
    "y = (1, 2, 3, 4, 5)\n",
    "x,y,r,w,q = y\n",
    "print(\"x\",x)\n",
    "print(\"y\",y)\n",
    "print(\"r\",r)\n",
    "print(\"w\",w)\n",
    "print(\"q\",q)"
   ]
  },
  {
   "cell_type": "code",
   "execution_count": 12,
   "id": "eed15708",
   "metadata": {},
   "outputs": [
    {
     "name": "stdout",
     "output_type": "stream",
     "text": [
      "(0, 2, 4, 6, 8, 10)\n"
     ]
    }
   ],
   "source": [
    "#10. Create a tuple of even numbers from 1 to 10.\n",
    "w=[]\n",
    "for i in range(11):\n",
    "    if i%2==0:\n",
    "        w.append(i)\n",
    "print(tuple(w))"
   ]
  },
  {
   "cell_type": "code",
   "execution_count": 13,
   "id": "c5eccce3",
   "metadata": {},
   "outputs": [
    {
     "name": "stdout",
     "output_type": "stream",
     "text": [
      "(1, 3, 5, 7, 9)\n"
     ]
    }
   ],
   "source": [
    "#11. Create a tuple of odd numbers from 1 to 10.\n",
    "rer=[]\n",
    "for i in range(11):\n",
    "    if i%2!=0:\n",
    "        rer.append(i)\n",
    "print(tuple(rer))"
   ]
  },
  {
   "cell_type": "code",
   "execution_count": 2,
   "id": "a158c211",
   "metadata": {},
   "outputs": [
    {
     "name": "stdout",
     "output_type": "stream",
     "text": [
      "(1, 2, 3, 4, 5, 0, 3, 4, 5)\n"
     ]
    }
   ],
   "source": [
    "#12. Concatenate two tuples.\n",
    "yu = (1,2,3,4,5)\n",
    "de = (0,3,4,5)\n",
    "print(yu + de)"
   ]
  },
  {
   "cell_type": "code",
   "execution_count": 4,
   "id": "f53dc8aa",
   "metadata": {},
   "outputs": [
    {
     "name": "stdout",
     "output_type": "stream",
     "text": [
      "(1, 2, 3, 4, 5)\n",
      "(1, 2, 3, 4, 5)\n",
      "(1, 2, 3, 4, 5)\n"
     ]
    }
   ],
   "source": [
    "#13. Repeat a tuple three times.\n",
    "yu = (1,2,3,4,5)\n",
    "for i in range(3):\n",
    "    print(yu)"
   ]
  },
  {
   "cell_type": "code",
   "execution_count": 5,
   "id": "2ef37af3",
   "metadata": {},
   "outputs": [
    {
     "data": {
      "text/plain": [
       "0"
      ]
     },
     "execution_count": 5,
     "metadata": {},
     "output_type": "execute_result"
    }
   ],
   "source": [
    "#14. Check if a tuple is empty.\n",
    "yy=()\n",
    "len(yy)"
   ]
  },
  {
   "cell_type": "code",
   "execution_count": 20,
   "id": "0057fdd3",
   "metadata": {},
   "outputs": [
    {
     "name": "stdout",
     "output_type": "stream",
     "text": [
      "((1, 2, 4, 5), 34)\n"
     ]
    }
   ],
   "source": [
    "#15. Create a nested tuple.\n",
    "e=((1,2,4,5),)\n",
    "ew= (34,)\n",
    "print(e+ew)"
   ]
  },
  {
   "cell_type": "code",
   "execution_count": 23,
   "id": "e5e979e9",
   "metadata": {},
   "outputs": [
    {
     "data": {
      "text/plain": [
       "2"
      ]
     },
     "execution_count": 23,
     "metadata": {},
     "output_type": "execute_result"
    }
   ],
   "source": [
    "#16. Access the first element of a nested tuple.\n",
    "q=((1, 2, 4, 5), 34)\n",
    "q[0][1]"
   ]
  },
  {
   "cell_type": "code",
   "execution_count": 26,
   "id": "afed9ed9",
   "metadata": {},
   "outputs": [
    {
     "data": {
      "text/plain": [
       "(1,)"
      ]
     },
     "execution_count": 26,
     "metadata": {},
     "output_type": "execute_result"
    }
   ],
   "source": [
    "#17. Create a tuple with a single element.\n",
    "t=(1,)\n",
    "t"
   ]
  },
  {
   "cell_type": "code",
   "execution_count": 45,
   "id": "e85a49b6",
   "metadata": {},
   "outputs": [
    {
     "name": "stdout",
     "output_type": "stream",
     "text": [
      "no\n",
      "no\n",
      "yes\n",
      "no\n"
     ]
    }
   ],
   "source": [
    "#Compare two tuples.\n",
    "q=(12,34,65,9)\n",
    "e = (1,2,3,4)\n",
    "if q==e:\n",
    "    print('yes')\n",
    "else:\n",
    "    print('no')\n",
    "if q<e:\n",
    "    print('yes')\n",
    "else:\n",
    "    print('no')\n",
    "if q>e:\n",
    "    print('yes')\n",
    "else:\n",
    "    print('no')\n",
    "if q<=e:\n",
    "    print('yes')\n",
    "else:\n",
    "    print('no')"
   ]
  },
  {
   "cell_type": "code",
   "execution_count": 31,
   "id": "2502930f",
   "metadata": {},
   "outputs": [
    {
     "ename": "NameError",
     "evalue": "name 't' is not defined",
     "output_type": "error",
     "traceback": [
      "\u001b[1;31m---------------------------------------------------------------------------\u001b[0m",
      "\u001b[1;31mNameError\u001b[0m                                 Traceback (most recent call last)",
      "Cell \u001b[1;32mIn[31], line 4\u001b[0m\n\u001b[0;32m      2\u001b[0m t\u001b[38;5;241m=\u001b[39m(\u001b[38;5;241m1\u001b[39m,)\n\u001b[0;32m      3\u001b[0m \u001b[38;5;28;01mdel\u001b[39;00m(t)\n\u001b[1;32m----> 4\u001b[0m t\n",
      "\u001b[1;31mNameError\u001b[0m: name 't' is not defined"
     ]
    }
   ],
   "source": [
    "#Delete a tuple'\n",
    "t=(1,)\n",
    "del(t)\n",
    "t"
   ]
  },
  {
   "cell_type": "code",
   "execution_count": 32,
   "id": "e7e3af87",
   "metadata": {},
   "outputs": [
    {
     "name": "stdout",
     "output_type": "stream",
     "text": [
      "(1, 2)\n"
     ]
    }
   ],
   "source": [
    "#Slice a tuple.\n",
    "ee = (1,2,3,4)\n",
    "print(ee[0:2])"
   ]
  },
  {
   "cell_type": "code",
   "execution_count": 33,
   "id": "34b66ecc",
   "metadata": {},
   "outputs": [
    {
     "name": "stdout",
     "output_type": "stream",
     "text": [
      "4\n"
     ]
    }
   ],
   "source": [
    "#Find the maximum value in a tuple.\n",
    "ee = (1,2,3,4)\n",
    "print(max(ee))"
   ]
  },
  {
   "cell_type": "code",
   "execution_count": 34,
   "id": "5c8a29f8",
   "metadata": {},
   "outputs": [
    {
     "name": "stdout",
     "output_type": "stream",
     "text": [
      "1\n"
     ]
    }
   ],
   "source": [
    "#Find the minimum value in a tuple.\n",
    "ee = (1,2,3,4)\n",
    "print(min(ee))"
   ]
  },
  {
   "cell_type": "code",
   "execution_count": 36,
   "id": "0d8f8cc5",
   "metadata": {},
   "outputs": [
    {
     "name": "stdout",
     "output_type": "stream",
     "text": [
      "('w', 'e', 'w', 'e', 'w', 'w', 'e', 'w', 'e', 'w', 'e', 'e', 'w', 'e', 'w', 'e', 'w', 'e') "
     ]
    }
   ],
   "source": [
    "#23. Convert a string to a tuple of characters.\n",
    "wu=\"wewewweweweewewewe\"\n",
    "r=tuple(wu)\n",
    "print(r,end=\" \")"
   ]
  },
  {
   "cell_type": "code",
   "execution_count": 8,
   "id": "0e8071f0",
   "metadata": {},
   "outputs": [
    {
     "data": {
      "text/plain": [
       "\"('w', 'e', 'w', 'e', 'w', 'w', 'e', 'w', 'e', 'w', 'e', 'e', 'w', 'e', 'w', 'e', 'w', 'e')\""
      ]
     },
     "execution_count": 8,
     "metadata": {},
     "output_type": "execute_result"
    }
   ],
   "source": [
    "#Convert a tuple of characters to a string.\n",
    "q=('w', 'e', 'w', 'e', 'w', 'w', 'e', 'w', 'e', 'w', 'e', 'e', 'w', 'e', 'w', 'e', 'w', 'e')\n",
    "e=str(q)\n",
    "e"
   ]
  },
  {
   "cell_type": "code",
   "execution_count": 11,
   "id": "4c69d589",
   "metadata": {},
   "outputs": [
    {
     "name": "stdout",
     "output_type": "stream",
     "text": [
      "('e', 23, 2.3)\n"
     ]
    }
   ],
   "source": [
    "#Create a tuple from multiple data types.\n",
    "h=(\"e\",23,2.3)\n",
    "print(h)"
   ]
  },
  {
   "cell_type": "code",
   "execution_count": 15,
   "id": "960bcdd4",
   "metadata": {},
   "outputs": [
    {
     "name": "stdout",
     "output_type": "stream",
     "text": [
      "yes\n"
     ]
    }
   ],
   "source": [
    "#Check if two tuples are identical.\n",
    "we=('e', 23, 2.3)\n",
    "sw=('e', 23, 2.3)\n",
    "if(all(x in we for x in sw)):\n",
    "    print(\"yes\")\n",
    "else:\n",
    "    print(\"no\")"
   ]
  },
  {
   "cell_type": "code",
   "execution_count": 4,
   "id": "ee518dc2",
   "metadata": {},
   "outputs": [
    {
     "data": {
      "text/plain": [
       "(1, 2, 3, 4, 24, 57, 567)"
      ]
     },
     "execution_count": 4,
     "metadata": {},
     "output_type": "execute_result"
    }
   ],
   "source": [
    "#Sort the elements of a tuple.\n",
    "qw=(1,3,24,567,2,4,57)\n",
    "we=list(qw)\n",
    "we.sort()\n",
    "qw = tuple(we)\n",
    "qw"
   ]
  },
  {
   "cell_type": "code",
   "execution_count": 3,
   "id": "0591091d",
   "metadata": {},
   "outputs": [
    {
     "data": {
      "text/plain": [
       "('1', '2', '3', '4')"
      ]
     },
     "execution_count": 3,
     "metadata": {},
     "output_type": "execute_result"
    }
   ],
   "source": [
    "#Convert a tuple of integers to a tuple of strings.\n",
    "u=(1,2,3,4)\n",
    "w=tuple((str(i) for i in u))\n",
    "w"
   ]
  },
  {
   "cell_type": "code",
   "execution_count": 5,
   "id": "53eb53e6",
   "metadata": {},
   "outputs": [
    {
     "data": {
      "text/plain": [
       "(1, 2, 3, 4)"
      ]
     },
     "execution_count": 5,
     "metadata": {},
     "output_type": "execute_result"
    }
   ],
   "source": [
    "#Convert a tuple of strings to a tuple of integers.\n",
    "w=('1', '2', '3', '4')\n",
    "q=tuple((int(i) for i in w))\n",
    "q"
   ]
  },
  {
   "cell_type": "code",
   "execution_count": 6,
   "id": "30795e4e",
   "metadata": {},
   "outputs": [
    {
     "name": "stdout",
     "output_type": "stream",
     "text": [
      "(1, 2, 3, 4, '1', '2', '3', '4')\n"
     ]
    }
   ],
   "source": [
    "#Merge two tuples.\n",
    "q=(1, 2, 3, 4)\n",
    "w=('1', '2', '3', '4')\n",
    "print(q + w)"
   ]
  },
  {
   "cell_type": "code",
   "execution_count": 21,
   "id": "1dec67a6",
   "metadata": {},
   "outputs": [
    {
     "data": {
      "text/plain": [
       "(12, 23, 45, 56)"
      ]
     },
     "execution_count": 21,
     "metadata": {},
     "output_type": "execute_result"
    }
   ],
   "source": [
    "#Flatten a nested tuple.\n",
    "w=(12,23)\n",
    "r=(45,56)\n",
    "q=w+r\n",
    "q"
   ]
  },
  {
   "cell_type": "code",
   "execution_count": 13,
   "id": "aa3c9178",
   "metadata": {},
   "outputs": [
    {
     "name": "stdout",
     "output_type": "stream",
     "text": [
      "(1, 2, 3, 5, 7)\n"
     ]
    }
   ],
   "source": [
    "#Create a tuple of the first 5 prime numbers.\n",
    "w=[1,2,3]\n",
    "for i in range(4,9):\n",
    "    for v in range(2,i):\n",
    "        if i%v==0:\n",
    "            break\n",
    "    else:\n",
    "        w.append(i)\n",
    "print(tuple(w))"
   ]
  },
  {
   "cell_type": "code",
   "execution_count": 5,
   "id": "98edaf61",
   "metadata": {},
   "outputs": [
    {
     "name": "stdout",
     "output_type": "stream",
     "text": [
      "no\n"
     ]
    },
    {
     "data": {
      "text/plain": [
       "(1, 9, 3, 2, 1)"
      ]
     },
     "execution_count": 5,
     "metadata": {},
     "output_type": "execute_result"
    }
   ],
   "source": [
    "#Check if a tuple is a palindrome.\n",
    "t=(1, 2, 3, 9, 1)\n",
    "if t==t[::-1]:\n",
    "    print('yes')\n",
    "else:\n",
    "    print('no')\n",
    "t[::-1]"
   ]
  },
  {
   "cell_type": "code",
   "execution_count": 1,
   "id": "c5bb008c",
   "metadata": {},
   "outputs": [
    {
     "name": "stdout",
     "output_type": "stream",
     "text": [
      "(25, 16, 9, 4, 1)\n"
     ]
    }
   ],
   "source": [
    "#Create a tuple of squares of numbers from 1 to 5.\n",
    "t=()\n",
    "for i in range(1,6):\n",
    "    t=(i**2,) + t\n",
    "print(t)"
   ]
  },
  {
   "cell_type": "code",
   "execution_count": 3,
   "id": "1962b8da",
   "metadata": {},
   "outputs": [
    {
     "name": "stdout",
     "output_type": "stream",
     "text": [
      "(2, 4, 6, 8, 10, 2, 4, 6, 8, 20)\n"
     ]
    }
   ],
   "source": [
    "#Filter out all even numbers from a tuple.\n",
    "o=(1,2,3,4,5,6,7,8,9,10,1,2,3,4,5,6,7,8,9,20)\n",
    "p=()\n",
    "for i in o:\n",
    "    if i%2==0:\n",
    "        p+=(i,)\n",
    "print(p)"
   ]
  },
  {
   "cell_type": "code",
   "execution_count": 4,
   "id": "f813c597",
   "metadata": {},
   "outputs": [
    {
     "name": "stdout",
     "output_type": "stream",
     "text": [
      "(2, 4, 6, 8, 10, 12, 14, 16, 18, 20)\n"
     ]
    }
   ],
   "source": [
    "#Multiply all elements in a tuple by 2.\n",
    "w=(1,2,3,4,5,6,7,8,9,10)\n",
    "q=()\n",
    "for i in w:\n",
    "    q+=(i*2,)\n",
    "print(q)"
   ]
  },
  {
   "cell_type": "code",
   "execution_count": 5,
   "id": "6fafa7fa",
   "metadata": {},
   "outputs": [
    {
     "name": "stdout",
     "output_type": "stream",
     "text": [
      "(2, 25, 13, 1, 21)\n"
     ]
    }
   ],
   "source": [
    "#Create a tuple of random numbers.\n",
    "import random\n",
    "q=()\n",
    "for i in range(5):\n",
    "    u=random.randint(1,30)\n",
    "    q+=(u,)\n",
    "print(q)"
   ]
  },
  {
   "cell_type": "code",
   "execution_count": 9,
   "id": "4cc90a62",
   "metadata": {},
   "outputs": [
    {
     "name": "stdout",
     "output_type": "stream",
     "text": [
      "no\n"
     ]
    }
   ],
   "source": [
    "#Check if a tuple is sorted.\n",
    "q=(2, 25, 13, 1, 21)\n",
    "w=list(q)\n",
    "e=w.sort()\n",
    "if e==w:\n",
    "    print('yes')\n",
    "else:\n",
    "    print('no')"
   ]
  },
  {
   "cell_type": "code",
   "execution_count": 18,
   "id": "de96ce51",
   "metadata": {},
   "outputs": [
    {
     "data": {
      "text/plain": [
       "(1, 2, 3, 4, 5)"
      ]
     },
     "execution_count": 18,
     "metadata": {},
     "output_type": "execute_result"
    }
   ],
   "source": [
    "#Rotate a tuple to the left by `n` positions.\n",
    "o=(1,2,3,4,5)\n",
    "o[2:]+o[:2]\n",
    "o"
   ]
  },
  {
   "cell_type": "code",
   "execution_count": 19,
   "id": "5d9475dc",
   "metadata": {},
   "outputs": [
    {
     "data": {
      "text/plain": [
       "(1, 2, 3, 4, 5)"
      ]
     },
     "execution_count": 19,
     "metadata": {},
     "output_type": "execute_result"
    }
   ],
   "source": [
    "#Rotate a tuple to the right by `n` positions.\n",
    "o=(1,2,3,4,5)\n",
    "o[:2]+o[2:]\n",
    "o"
   ]
  },
  {
   "cell_type": "code",
   "execution_count": 39,
   "id": "6e632003",
   "metadata": {},
   "outputs": [
    {
     "name": "stdout",
     "output_type": "stream",
     "text": [
      "(0, 1, 1, 2, 3, 5)\n"
     ]
    }
   ],
   "source": [
    "#Create a tuple of the first 5 Fibonacci numbers.\n",
    "s=(0,1)\n",
    "a=0\n",
    "b=1\n",
    "for i in range(2,6):\n",
    "    c=a+b\n",
    "    a=b\n",
    "    b=c\n",
    "    s+=(c,)\n",
    "print(s)"
   ]
  },
  {
   "cell_type": "code",
   "execution_count": 15,
   "id": "15f12215",
   "metadata": {},
   "outputs": [
    {
     "name": "stdout",
     "output_type": "stream",
     "text": [
      "enter no:1234567890\n"
     ]
    },
    {
     "data": {
      "text/plain": [
       "('1', '2', '3', '4', '5', '6', '7', '8', '9', '0')"
      ]
     },
     "execution_count": 15,
     "metadata": {},
     "output_type": "execute_result"
    }
   ],
   "source": [
    "#Create a tuple from user input.\n",
    "x=tuple(input(\"enter no:\"))\n",
    "x"
   ]
  },
  {
   "cell_type": "code",
   "execution_count": 21,
   "id": "8212f2ba",
   "metadata": {},
   "outputs": [
    {
     "data": {
      "text/plain": [
       "(13, 1, 13, 1, 21)"
      ]
     },
     "execution_count": 21,
     "metadata": {},
     "output_type": "execute_result"
    }
   ],
   "source": [
    "#Swap two elements in a tuple.\n",
    "d=(2, 25, 13, 1, 21)\n",
    "w=list(d)\n",
    "w[0],w[1]=w[2],w[3]\n",
    "w[2],w[3]=w[0],w[1]\n",
    "tuple(w)"
   ]
  },
  {
   "cell_type": "code",
   "execution_count": 22,
   "id": "b2d4027d",
   "metadata": {},
   "outputs": [
    {
     "data": {
      "text/plain": [
       "(21, 1, 13, 25, 2)"
      ]
     },
     "execution_count": 22,
     "metadata": {},
     "output_type": "execute_result"
    }
   ],
   "source": [
    "#Reverse the elements of a tuple.\n",
    "d=(2, 25, 13, 1, 21)\n",
    "d[::-1]"
   ]
  },
  {
   "cell_type": "code",
   "execution_count": 24,
   "id": "fc535976",
   "metadata": {},
   "outputs": [
    {
     "name": "stdout",
     "output_type": "stream",
     "text": [
      "(2, 4, 8, 16, 32)\n"
     ]
    }
   ],
   "source": [
    "#Create a tuple of the first `n` powers of 2.\n",
    "w=()\n",
    "for i in range(1,6):\n",
    "    w+=(2**i,)\n",
    "    \n",
    "print(w)"
   ]
  },
  {
   "cell_type": "code",
   "execution_count": 25,
   "id": "0c46cfdb",
   "metadata": {},
   "outputs": [
    {
     "data": {
      "text/plain": [
       "'derere'"
      ]
     },
     "execution_count": 25,
     "metadata": {},
     "output_type": "execute_result"
    }
   ],
   "source": [
    "#Find the longest string in a tuple of strings.\n",
    "q=(\"wee\",\"errw\",\"derere\")\n",
    "w=max(q,key=len)\n",
    "w"
   ]
  },
  {
   "cell_type": "code",
   "execution_count": 29,
   "id": "492a02b4",
   "metadata": {},
   "outputs": [
    {
     "data": {
      "text/plain": [
       "'we'"
      ]
     },
     "execution_count": 29,
     "metadata": {},
     "output_type": "execute_result"
    }
   ],
   "source": [
    "#Find the shortest string in a tuple of strings.\n",
    "q=(\"aee\",\"wee\",\"errw\",\"derere\")\n",
    "w=min(q,key=len)\n",
    "w"
   ]
  },
  {
   "cell_type": "code",
   "execution_count": 8,
   "id": "9e538c95",
   "metadata": {},
   "outputs": [
    {
     "name": "stdout",
     "output_type": "stream",
     "text": [
      "enter no. :6\n",
      "(1, 3, 6, 10, 15, 21)\n"
     ]
    }
   ],
   "source": [
    "#Create a tuple of the first `n` triangular numbers.\n",
    "w=()\n",
    "n=int(input(\"enter no. :\"))\n",
    "for i in range(1,n+1):\n",
    "    tn=(i*(i+1))//2\n",
    "    w+=(tn,)\n",
    "print(w)"
   ]
  },
  {
   "cell_type": "code",
   "execution_count": 34,
   "id": "8dc2f1af",
   "metadata": {},
   "outputs": [
    {
     "name": "stdout",
     "output_type": "stream",
     "text": [
      "yes\n"
     ]
    }
   ],
   "source": [
    "#Check if a tuple contains another tuple as a subsequence.\n",
    "q=(\"aee\",\"wee\",\"errw\",\"derere\")\n",
    "w=(\"wee\",\"errw\",\"derere\")\n",
    "if(all(x in q for x in w)):\n",
    "    print('yes')\n",
    "else:\n",
    "    print('no')"
   ]
  },
  {
   "cell_type": "code",
   "execution_count": 5,
   "id": "7384adfb",
   "metadata": {},
   "outputs": [
    {
     "name": "stdout",
     "output_type": "stream",
     "text": [
      "(1, 0, 1, 0, 1, 0, 1)\n"
     ]
    }
   ],
   "source": [
    "#Create a tuple of alternating 1s and 0s of length `n`.\n",
    "w={1,2,3,4,5,6,7}\n",
    "r=()\n",
    "for i in w:\n",
    "    if i%2==0:\n",
    "        r+=(0,)\n",
    "    if i%2!=0:\n",
    "        r+=(1,)\n",
    "print(r)"
   ]
  },
  {
   "cell_type": "markdown",
   "id": "fc939e8b",
   "metadata": {},
   "source": [
    "# Set Based Practice Problem :"
   ]
  },
  {
   "cell_type": "code",
   "execution_count": 3,
   "id": "a5ee991c",
   "metadata": {},
   "outputs": [
    {
     "data": {
      "text/plain": [
       "{1, 2, 3, 4}"
      ]
     },
     "execution_count": 3,
     "metadata": {},
     "output_type": "execute_result"
    }
   ],
   "source": [
    "#1. Create a set with integers from 1 to 5.\n",
    "w={1,2,3,4}\n",
    "w"
   ]
  },
  {
   "cell_type": "code",
   "execution_count": 4,
   "id": "08f560e2",
   "metadata": {},
   "outputs": [
    {
     "data": {
      "text/plain": [
       "{1, 2, 3, 4, 7}"
      ]
     },
     "execution_count": 4,
     "metadata": {},
     "output_type": "execute_result"
    }
   ],
   "source": [
    "#Add an element to a set.\n",
    "w={1,2,3,4}\n",
    "w.add(7)\n",
    "w"
   ]
  },
  {
   "cell_type": "code",
   "execution_count": 33,
   "id": "28caf74b",
   "metadata": {},
   "outputs": [
    {
     "data": {
      "text/plain": [
       "{1, 2, 3}"
      ]
     },
     "execution_count": 33,
     "metadata": {},
     "output_type": "execute_result"
    }
   ],
   "source": [
    "#3. Remove an element from a set.\n",
    "w={1,2,3,4}\n",
    "w.remove(4)\n",
    "w"
   ]
  },
  {
   "cell_type": "code",
   "execution_count": 13,
   "id": "2ab2cfda",
   "metadata": {},
   "outputs": [
    {
     "name": "stdout",
     "output_type": "stream",
     "text": [
      "no\n"
     ]
    }
   ],
   "source": [
    "#Check if an element exists in a set.\n",
    "w={1,2,3,4}\n",
    "if 8 in w:\n",
    "    print('yes')\n",
    "else:\n",
    "    print('no')"
   ]
  },
  {
   "cell_type": "code",
   "execution_count": 14,
   "id": "61bfc0b7",
   "metadata": {},
   "outputs": [
    {
     "name": "stdout",
     "output_type": "stream",
     "text": [
      "4\n"
     ]
    }
   ],
   "source": [
    "#Find the length of a set without using the `len()` function.\n",
    "w={1,2,3,4}\n",
    "e=0\n",
    "for i in w:\n",
    "    e+=1\n",
    "print(e)"
   ]
  },
  {
   "cell_type": "code",
   "execution_count": 34,
   "id": "a293a647",
   "metadata": {},
   "outputs": [
    {
     "data": {
      "text/plain": [
       "set()"
      ]
     },
     "execution_count": 34,
     "metadata": {},
     "output_type": "execute_result"
    }
   ],
   "source": [
    "#Clear all elements from a set.\n",
    "w={1,2,3,4}\n",
    "w.clear()\n",
    "w"
   ]
  },
  {
   "cell_type": "code",
   "execution_count": 35,
   "id": "43434b6d",
   "metadata": {},
   "outputs": [
    {
     "name": "stdout",
     "output_type": "stream",
     "text": [
      "{0, 2, 4, 6, 8, 10}\n"
     ]
    }
   ],
   "source": [
    "#Create a set of even numbers from 1 to 10.\n",
    "a={0}\n",
    "for i in range(1,11):\n",
    "    if i%2==0:\n",
    "        a.add(i)\n",
    "print(a)"
   ]
  },
  {
   "cell_type": "code",
   "execution_count": 36,
   "id": "2cddd191",
   "metadata": {},
   "outputs": [
    {
     "name": "stdout",
     "output_type": "stream",
     "text": [
      "{1, 3, 5, 7, 9}\n"
     ]
    }
   ],
   "source": [
    "#Create a set of odd numbers from 1 to 10.\n",
    "s={1}\n",
    "for i in range(2,11):\n",
    "    if i%2!=0:\n",
    "        s.add(i)\n",
    "print(s)"
   ]
  },
  {
   "cell_type": "code",
   "execution_count": 39,
   "id": "b4ab79e0",
   "metadata": {},
   "outputs": [
    {
     "data": {
      "text/plain": [
       "{0, 1, 2, 3, 4, 5, 6, 7, 8, 9, 10}"
      ]
     },
     "execution_count": 39,
     "metadata": {},
     "output_type": "execute_result"
    }
   ],
   "source": [
    "#Find the union of two sets.\n",
    "def unioni(a,s):\n",
    "    w= a.union(s)\n",
    "    return w\n",
    "\n",
    "q={0, 2, 4, 6, 8, 10}\n",
    "a={1, 3, 5, 7, 9}\n",
    "unioni(q,a)"
   ]
  },
  {
   "cell_type": "code",
   "execution_count": 43,
   "id": "c86a652b",
   "metadata": {},
   "outputs": [
    {
     "data": {
      "text/plain": [
       "{0}"
      ]
     },
     "execution_count": 43,
     "metadata": {},
     "output_type": "execute_result"
    }
   ],
   "source": [
    "#Find the intersection of two sets.\n",
    "def inunioni(a,s):\n",
    "    w= a.intersection(s)\n",
    "    return w\n",
    "\n",
    "q={0, 2, 4, 6, 8, 10}\n",
    "a={0 ,1, 3, 5, 7, 9}\n",
    "inunioni(q,a)"
   ]
  },
  {
   "cell_type": "code",
   "execution_count": 47,
   "id": "92fb625a",
   "metadata": {},
   "outputs": [
    {
     "data": {
      "text/plain": [
       "{1, 3, 5, 7, 9}"
      ]
     },
     "execution_count": 47,
     "metadata": {},
     "output_type": "execute_result"
    }
   ],
   "source": [
    "#Find the difference between two sets.\n",
    "def diff(w,i):\n",
    "    s= i.difference(w)            # difference - find the difference btw two sets\n",
    "    return s\n",
    "\n",
    "q={0, 2, 4, 6, 8, 10}\n",
    "a={0 ,1, 3, 5, 7, 9}\n",
    "diff(q,a)"
   ]
  },
  {
   "cell_type": "code",
   "execution_count": 50,
   "id": "e560ab6b",
   "metadata": {},
   "outputs": [
    {
     "data": {
      "text/plain": [
       "False"
      ]
     },
     "execution_count": 50,
     "metadata": {},
     "output_type": "execute_result"
    }
   ],
   "source": [
    "#12. Check if a set is a subset of another set.\n",
    "def suv(i,o):\n",
    "    w= (x.issubset(y))          # issubset() - finds subset\n",
    "    return w\n",
    "x={1,2,3,4,5,6,7,8,9}\n",
    "y={1,2,3,4,5}\n",
    "suv(x,y)"
   ]
  },
  {
   "cell_type": "code",
   "execution_count": 51,
   "id": "2c898922",
   "metadata": {},
   "outputs": [
    {
     "data": {
      "text/plain": [
       "True"
      ]
     },
     "execution_count": 51,
     "metadata": {},
     "output_type": "execute_result"
    }
   ],
   "source": [
    "#Check if a set is a superset of another set.\n",
    "def ssuv(i,o):\n",
    "    w= (x.issuperset(y))          # issuperset() - finds superset\n",
    "    return w\n",
    "x={1,2,3,4,5,6,7,8,9}\n",
    "y={1,2,3,4,5}\n",
    "ssuv(x,y)"
   ]
  },
  {
   "cell_type": "code",
   "execution_count": 52,
   "id": "380c7061",
   "metadata": {},
   "outputs": [
    {
     "data": {
      "text/plain": [
       "{1, 2, 3, 4, 5}"
      ]
     },
     "execution_count": 52,
     "metadata": {},
     "output_type": "execute_result"
    }
   ],
   "source": [
    "#Create a set from a list.\n",
    "y=(1,2,3,4,5)\n",
    "set(y)"
   ]
  },
  {
   "cell_type": "code",
   "execution_count": 53,
   "id": "b7c7d7cc",
   "metadata": {},
   "outputs": [
    {
     "data": {
      "text/plain": [
       "[1, 2, 3, 4, 5]"
      ]
     },
     "execution_count": 53,
     "metadata": {},
     "output_type": "execute_result"
    }
   ],
   "source": [
    "#Convert a set to a list.\n",
    "y={1,2,3,4,5}\n",
    "list(y)"
   ]
  },
  {
   "cell_type": "code",
   "execution_count": 104,
   "id": "f46aa1c5",
   "metadata": {},
   "outputs": [
    {
     "data": {
      "text/plain": [
       "1"
      ]
     },
     "execution_count": 104,
     "metadata": {},
     "output_type": "execute_result"
    }
   ],
   "source": [
    "#Remove a random element from a set.\n",
    "\n",
    "y={1,2,3,4,5}\n",
    "q=y.pop()\n",
    "q"
   ]
  },
  {
   "cell_type": "code",
   "execution_count": 107,
   "id": "e5d3aa87",
   "metadata": {},
   "outputs": [
    {
     "data": {
      "text/plain": [
       "1"
      ]
     },
     "execution_count": 107,
     "metadata": {},
     "output_type": "execute_result"
    }
   ],
   "source": [
    "#17. Pop an element from a set.\n",
    "y={1,2,3,4,5}\n",
    "q=y.pop()\n",
    "q"
   ]
  },
  {
   "cell_type": "code",
   "execution_count": 3,
   "id": "2266975c",
   "metadata": {},
   "outputs": [
    {
     "data": {
      "text/plain": [
       "True"
      ]
     },
     "execution_count": 3,
     "metadata": {},
     "output_type": "execute_result"
    }
   ],
   "source": [
    "#18. Check if two sets have no elements in common.\n",
    "def disj(y,u):\n",
    "    q=y.isdisjoint(u)         # disjoint()- Check if two sets have no elements in common\n",
    "    return q\n",
    "\n",
    "t={2,4,5,6}\n",
    "w={1,3,7}\n",
    "disj(q,w)"
   ]
  },
  {
   "cell_type": "code",
   "execution_count": 10,
   "id": "d9c07c76",
   "metadata": {},
   "outputs": [
    {
     "data": {
      "text/plain": [
       "{1, 2, 3, 4, 5, 6, 7}"
      ]
     },
     "execution_count": 10,
     "metadata": {},
     "output_type": "execute_result"
    }
   ],
   "source": [
    "#19. Find the symmetric difference between two sets.\n",
    "def sd(t,y):\n",
    "    w=t.symmetric_difference(y)\n",
    "    return w\n",
    "t={2,4,5,6}\n",
    "w={1,3,7}\n",
    "sd(t,w)"
   ]
  },
  {
   "cell_type": "code",
   "execution_count": 1,
   "id": "a1732f88",
   "metadata": {},
   "outputs": [
    {
     "name": "stdout",
     "output_type": "stream",
     "text": [
      "{1, 2, 3, 4, 5, 6, 7}\n"
     ]
    }
   ],
   "source": [
    "#20. Update a set with elements from another set.\n",
    "q={2,4,5,6}\n",
    "qw={1,3,7}\n",
    "q.update(qw)\n",
    "print(q)"
   ]
  },
  {
   "cell_type": "code",
   "execution_count": 26,
   "id": "07a8f3e0",
   "metadata": {},
   "outputs": [
    {
     "name": "stdout",
     "output_type": "stream",
     "text": [
      "{1, 2, 3, 5, 7}\n"
     ]
    }
   ],
   "source": [
    "#21. Create a set of the first 5 prime numbers.\n",
    "w = {1, 2}\n",
    "for i in range(3, 10):\n",
    "    \n",
    "    for divisor in range(2, i):\n",
    "        if i % divisor == 0:\n",
    "            \n",
    "            break\n",
    "    else:\n",
    "        w.add(i)\n",
    "\n",
    "print(w)"
   ]
  },
  {
   "cell_type": "code",
   "execution_count": 4,
   "id": "9855d769",
   "metadata": {},
   "outputs": [
    {
     "name": "stdout",
     "output_type": "stream",
     "text": [
      "yes\n"
     ]
    }
   ],
   "source": [
    "#22. Check if two sets are identical.\n",
    "w={1, 2, 3, 4, 5, 6, 7}\n",
    "q={1, 2, 3, 5, 7}\n",
    "if(all(x in w for x in q)):\n",
    "    print('yes')\n",
    "else:\n",
    "    print('no')"
   ]
  },
  {
   "cell_type": "code",
   "execution_count": 5,
   "id": "5681282f",
   "metadata": {},
   "outputs": [
    {
     "data": {
      "text/plain": [
       "frozenset({1, 2, 3, 5, 7})"
      ]
     },
     "execution_count": 5,
     "metadata": {},
     "output_type": "execute_result"
    }
   ],
   "source": [
    "#23. Create a frozen set.\n",
    "q={1, 2, 3, 5, 7}\n",
    "frozenset(q)"
   ]
  },
  {
   "cell_type": "code",
   "execution_count": 6,
   "id": "843dfbc2",
   "metadata": {},
   "outputs": [
    {
     "data": {
      "text/plain": [
       "False"
      ]
     },
     "execution_count": 6,
     "metadata": {},
     "output_type": "execute_result"
    }
   ],
   "source": [
    "#24. Check if a set is disjoint with another set.\n",
    "def disj(y,u):\n",
    "    q=y.isdisjoint(u)        \n",
    "    return q\n",
    "\n",
    "t={2,4,5,6}\n",
    "w={1,3,7}\n",
    "disj(q,w)"
   ]
  },
  {
   "cell_type": "code",
   "execution_count": 8,
   "id": "3a2cd33c",
   "metadata": {},
   "outputs": [
    {
     "name": "stdout",
     "output_type": "stream",
     "text": [
      "{0, 1, 4, 9, 16, 25}\n"
     ]
    }
   ],
   "source": [
    "#Create a set of squares of numbers from 1 to 5.\n",
    "q={0}\n",
    "for i in range(1,6):\n",
    "    q.add(i**2)\n",
    "print(q)"
   ]
  },
  {
   "cell_type": "code",
   "execution_count": 17,
   "id": "9ca0f287",
   "metadata": {},
   "outputs": [
    {
     "data": {
      "text/plain": [
       "{2, 4, 6}"
      ]
     },
     "execution_count": 17,
     "metadata": {},
     "output_type": "execute_result"
    }
   ],
   "source": [
    "#Filter out all even numbers from a set.\n",
    "w={1, 2, 3, 4, 5, 6, 7}\n",
    "a=set()\n",
    "for i in w:\n",
    "    if i%2==0:\n",
    "        a.add(i)\n",
    "a"
   ]
  },
  {
   "cell_type": "code",
   "execution_count": 2,
   "id": "87a8b315",
   "metadata": {},
   "outputs": [
    {
     "name": "stdout",
     "output_type": "stream",
     "text": [
      "{0, 2, 4, 6, 8, 10, 12, 14}\n"
     ]
    }
   ],
   "source": [
    "#Multiply all elements in a set by 2.\n",
    "w={1, 2, 3, 4, 5, 6, 7}\n",
    "q={0}\n",
    "for i in w:\n",
    "    q.add(i*2)\n",
    "print(q)"
   ]
  },
  {
   "cell_type": "code",
   "execution_count": 15,
   "id": "7b1500fc",
   "metadata": {},
   "outputs": [
    {
     "name": "stdout",
     "output_type": "stream",
     "text": [
      "{1, 44, 19, 24, 58}\n"
     ]
    }
   ],
   "source": [
    "#Create a set of random numbers.\n",
    "import random\n",
    "q=set()\n",
    "for i in range(5):\n",
    "        q.add(random.randint(1,78))\n",
    "print(q)"
   ]
  },
  {
   "cell_type": "code",
   "execution_count": 16,
   "id": "46b9f3d2",
   "metadata": {},
   "outputs": [
    {
     "name": "stdout",
     "output_type": "stream",
     "text": [
      "yes\n"
     ]
    }
   ],
   "source": [
    "#Check if a set is empty.\n",
    "q=set()\n",
    "if len(q)==0:\n",
    "    print('yes')\n",
    "else:\n",
    "    print('no')"
   ]
  },
  {
   "cell_type": "code",
   "execution_count": 9,
   "id": "b599c42f",
   "metadata": {},
   "outputs": [
    {
     "data": {
      "text/plain": [
       "{frozenset({0, 2, 4, 6, 8, 10, 12, 14}), frozenset({12, 34, 56})}"
      ]
     },
     "execution_count": 9,
     "metadata": {},
     "output_type": "execute_result"
    }
   ],
   "source": [
    "#Create a nested set (hint: use frozenset).\n",
    "q={0, 2, 4, 6, 8, 10, 12, 14}\n",
    "e={12,34,56}\n",
    "q=frozenset(q)\n",
    "e=frozenset(e)\n",
    "w={q,e}\n",
    "w"
   ]
  },
  {
   "cell_type": "code",
   "execution_count": 10,
   "id": "3ff80056",
   "metadata": {},
   "outputs": [
    {
     "data": {
      "text/plain": [
       "{0, 2, 4, 8, 10, 12, 14}"
      ]
     },
     "execution_count": 10,
     "metadata": {},
     "output_type": "execute_result"
    }
   ],
   "source": [
    "#31. Remove an element from a set using the discard method.\n",
    "q={0, 2, 4, 6, 8, 10, 12, 14}\n",
    "q.discard(6)\n",
    "q"
   ]
  },
  {
   "cell_type": "code",
   "execution_count": 11,
   "id": "40908df9",
   "metadata": {},
   "outputs": [
    {
     "name": "stdout",
     "output_type": "stream",
     "text": [
      "no\n",
      "no\n",
      "no\n",
      "no\n"
     ]
    }
   ],
   "source": [
    "#Compare two sets.\n",
    "q={12,34,65,9}\n",
    "e = {1,2,3,4}\n",
    "if q==e:\n",
    "    print('yes')\n",
    "else:\n",
    "    print('no')\n",
    "if q<e:\n",
    "    print('yes')\n",
    "else:\n",
    "    print('no')\n",
    "if q>e:\n",
    "    print('yes')\n",
    "else:\n",
    "    print('no')\n",
    "if q<=e:\n",
    "    print('yes')\n",
    "else:\n",
    "    print('no')"
   ]
  },
  {
   "cell_type": "code",
   "execution_count": 18,
   "id": "71464b73",
   "metadata": {},
   "outputs": [
    {
     "data": {
      "text/plain": [
       "{',', '2', '3', '4', '5'}"
      ]
     },
     "execution_count": 18,
     "metadata": {},
     "output_type": "execute_result"
    }
   ],
   "source": [
    "#Create a set from a string.\n",
    "w=set('2,3,4,5')\n",
    "w"
   ]
  },
  {
   "cell_type": "code",
   "execution_count": 21,
   "id": "fc29a23a",
   "metadata": {},
   "outputs": [
    {
     "name": "stdout",
     "output_type": "stream",
     "text": [
      "{234, 67, 45}\n"
     ]
    }
   ],
   "source": [
    "#Convert a set of strings to a set of integers.\n",
    "w={'234','45','67'}\n",
    "q=set()\n",
    "for i in w:\n",
    "    y=int(i)\n",
    "    q.add(y)\n",
    "print(q)"
   ]
  },
  {
   "cell_type": "code",
   "execution_count": 22,
   "id": "8593b391",
   "metadata": {},
   "outputs": [
    {
     "name": "stdout",
     "output_type": "stream",
     "text": [
      "{'234', '67', '45'}\n"
     ]
    }
   ],
   "source": [
    "#Convert a set of integers to a set of strings.\n",
    "q={234, 67, 45}\n",
    "w=set()\n",
    "for i in q:\n",
    "    s=str(i)\n",
    "    w.add(s)\n",
    "print(w)"
   ]
  },
  {
   "cell_type": "code",
   "execution_count": 24,
   "id": "668d79ee",
   "metadata": {},
   "outputs": [
    {
     "data": {
      "text/plain": [
       "{45, 67, 234}"
      ]
     },
     "execution_count": 24,
     "metadata": {},
     "output_type": "execute_result"
    }
   ],
   "source": [
    "#Create a set from a tuple.\n",
    "r=(234, 67, 45)\n",
    "w=set(r)\n",
    "w"
   ]
  },
  {
   "cell_type": "code",
   "execution_count": 27,
   "id": "14802f88",
   "metadata": {},
   "outputs": [
    {
     "data": {
      "text/plain": [
       "(234, 67, 45)"
      ]
     },
     "execution_count": 27,
     "metadata": {},
     "output_type": "execute_result"
    }
   ],
   "source": [
    "#Convert a set to a tuple.\n",
    "w={45, 67, 234}\n",
    "q=tuple(w)\n",
    "q"
   ]
  },
  {
   "cell_type": "code",
   "execution_count": 29,
   "id": "df948315",
   "metadata": {},
   "outputs": [
    {
     "data": {
      "text/plain": [
       "234"
      ]
     },
     "execution_count": 29,
     "metadata": {},
     "output_type": "execute_result"
    }
   ],
   "source": [
    "#Find the maximum value in a set.\n",
    "w={45, 67, 234}\n",
    "e=max(w)\n",
    "e"
   ]
  },
  {
   "cell_type": "code",
   "execution_count": 30,
   "id": "771f1250",
   "metadata": {},
   "outputs": [
    {
     "data": {
      "text/plain": [
       "45"
      ]
     },
     "execution_count": 30,
     "metadata": {},
     "output_type": "execute_result"
    }
   ],
   "source": [
    "#Find the minimum value in a set.\n",
    "w={45, 67, 234}\n",
    "e=min(w)\n",
    "e"
   ]
  },
  {
   "cell_type": "code",
   "execution_count": 2,
   "id": "00b7d4fb",
   "metadata": {},
   "outputs": [
    {
     "name": "stdout",
     "output_type": "stream",
     "text": [
      "enter no.: 12 34 45\n"
     ]
    },
    {
     "data": {
      "text/plain": [
       "{'12', '34', '45'}"
      ]
     },
     "execution_count": 2,
     "metadata": {},
     "output_type": "execute_result"
    }
   ],
   "source": [
    "##Create a set from user input.\n",
    "w= set(input('enter no.: ').split())\n",
    "w"
   ]
  },
  {
   "cell_type": "code",
   "execution_count": 6,
   "id": "893f9fe9",
   "metadata": {},
   "outputs": [
    {
     "name": "stdout",
     "output_type": "stream",
     "text": [
      "not empty\n"
     ]
    }
   ],
   "source": [
    "#Check if the intersection of two sets is empty.\n",
    "p={1,2,3,4}\n",
    "y={3,4,5,6}\n",
    "if p.intersection(y)== 0:\n",
    "    print('yes empty')\n",
    "else:\n",
    "    print('not empty')"
   ]
  },
  {
   "cell_type": "code",
   "execution_count": 8,
   "id": "b9b64135",
   "metadata": {},
   "outputs": [
    {
     "data": {
      "text/plain": [
       "{1, 2, 3, 5, 8, 13}"
      ]
     },
     "execution_count": 8,
     "metadata": {},
     "output_type": "execute_result"
    }
   ],
   "source": [
    "#Create a set of the first 5 Fibonacci numbers.\n",
    "q=set()\n",
    "a=0\n",
    "b=1\n",
    "for i in range(6):\n",
    "    c=a+b\n",
    "    a=b\n",
    "    b=c\n",
    "    q.add(c)\n",
    "q"
   ]
  },
  {
   "cell_type": "code",
   "execution_count": 10,
   "id": "c17ba62d",
   "metadata": {},
   "outputs": [
    {
     "data": {
      "text/plain": [
       "{1, 2, 3, 4}"
      ]
     },
     "execution_count": 10,
     "metadata": {},
     "output_type": "execute_result"
    }
   ],
   "source": [
    "#Remove duplicates from a list using sets.\n",
    "w=[1,1,1,2,2,2,2,3,3,3,4,4,4]\n",
    "w=set(w)\n",
    "w"
   ]
  },
  {
   "cell_type": "code",
   "execution_count": 12,
   "id": "678407f9",
   "metadata": {},
   "outputs": [
    {
     "name": "stdout",
     "output_type": "stream",
     "text": [
      "no\n"
     ]
    }
   ],
   "source": [
    "#Check if two sets have the same elements, regardless of their count.\n",
    "w={1,1,1,2,2,2,2,3,3,3,4,4,4}\n",
    "q={1, 2, 3, 4}\n",
    "if(all(x in w for x in q)):\n",
    "    print('yes')\n",
    "else:\n",
    "    print('no')"
   ]
  },
  {
   "cell_type": "code",
   "execution_count": 13,
   "id": "acb5badf",
   "metadata": {},
   "outputs": [
    {
     "data": {
      "text/plain": [
       "{1, 2, 4, 8, 16}"
      ]
     },
     "execution_count": 13,
     "metadata": {},
     "output_type": "execute_result"
    }
   ],
   "source": [
    "#Create a set of the first `n` powers of 2.\n",
    "q=set()\n",
    "for i in range (5):\n",
    "    q.add(2**i)\n",
    "q"
   ]
  },
  {
   "cell_type": "code",
   "execution_count": 16,
   "id": "17ca34fb",
   "metadata": {},
   "outputs": [
    {
     "name": "stdout",
     "output_type": "stream",
     "text": [
      "yes\n"
     ]
    }
   ],
   "source": [
    "#Find the common elements between a set and a list.\n",
    "p={1,2,3,4}\n",
    "y=[3,4,5,6]\n",
    "if p.intersection(set(y)):\n",
    "    print('yes')\n",
    "else:\n",
    "    print('no')"
   ]
  },
  {
   "cell_type": "code",
   "execution_count": 17,
   "id": "2bc0d40f",
   "metadata": {},
   "outputs": [
    {
     "name": "stdout",
     "output_type": "stream",
     "text": [
      "enter no. :5\n"
     ]
    },
    {
     "data": {
      "text/plain": [
       "{1, 3, 6, 10, 15}"
      ]
     },
     "execution_count": 17,
     "metadata": {},
     "output_type": "execute_result"
    }
   ],
   "source": [
    "#Create a set of the first `n` triangular numbers.\n",
    "q=set()\n",
    "n=int(input(\"enter no. :\"))\n",
    "for i in range(1,n+1):\n",
    "    tn=(i*(i+1))//2\n",
    "    q.add(tn)\n",
    "q"
   ]
  },
  {
   "cell_type": "code",
   "execution_count": 19,
   "id": "1738a79a",
   "metadata": {},
   "outputs": [
    {
     "data": {
      "text/plain": [
       "True"
      ]
     },
     "execution_count": 19,
     "metadata": {},
     "output_type": "execute_result"
    }
   ],
   "source": [
    "#Check if a set contains another set as a subset.\n",
    "c={1,2,3,4,5}\n",
    "b={2,4,5}\n",
    "b.issubset(c)"
   ]
  },
  {
   "cell_type": "code",
   "execution_count": 4,
   "id": "db45d46f",
   "metadata": {},
   "outputs": [
    {
     "name": "stdout",
     "output_type": "stream",
     "text": [
      "{0, 1}\n"
     ]
    }
   ],
   "source": [
    "#Create a set of alternating 1s and 0s of length `n`.\n",
    "w={1,2,3,4,5,6,7}\n",
    "r=set()\n",
    "for i in w:\n",
    "    if i%2==0:\n",
    "        r.add(0)\n",
    "    if i%2!=0:\n",
    "        r.add(1)\n",
    "print(r)"
   ]
  },
  {
   "cell_type": "code",
   "execution_count": 21,
   "id": "6f05c7f4",
   "metadata": {},
   "outputs": [
    {
     "data": {
      "text/plain": [
       "{1, 2, 3, 4, 5, 21, 24, 45, 50, 56}"
      ]
     },
     "execution_count": 21,
     "metadata": {},
     "output_type": "execute_result"
    }
   ],
   "source": [
    "#Merge multiple sets into one.\n",
    "c={1,2,3,4,5}\n",
    "b={21,24,56}\n",
    "v={45,50}\n",
    "a=c.union(b)\n",
    "l=v.union(a)\n",
    "l"
   ]
  },
  {
   "cell_type": "code",
   "execution_count": null,
   "id": "e7e9f12e",
   "metadata": {},
   "outputs": [],
   "source": [
    "\n"
   ]
  },
  {
   "cell_type": "code",
   "execution_count": null,
   "id": "ce99e0db",
   "metadata": {},
   "outputs": [],
   "source": []
  },
  {
   "cell_type": "code",
   "execution_count": null,
   "id": "65c02f46",
   "metadata": {},
   "outputs": [],
   "source": []
  },
  {
   "cell_type": "code",
   "execution_count": null,
   "id": "b472961d",
   "metadata": {},
   "outputs": [],
   "source": []
  },
  {
   "cell_type": "code",
   "execution_count": null,
   "id": "c645c59e",
   "metadata": {},
   "outputs": [],
   "source": []
  },
  {
   "cell_type": "code",
   "execution_count": null,
   "id": "6a74b789",
   "metadata": {},
   "outputs": [],
   "source": []
  }
 ],
 "metadata": {
  "kernelspec": {
   "display_name": "Python 3 (ipykernel)",
   "language": "python",
   "name": "python3"
  },
  "language_info": {
   "codemirror_mode": {
    "name": "ipython",
    "version": 3
   },
   "file_extension": ".py",
   "mimetype": "text/x-python",
   "name": "python",
   "nbconvert_exporter": "python",
   "pygments_lexer": "ipython3",
   "version": "3.11.3"
  }
 },
 "nbformat": 4,
 "nbformat_minor": 5
}
