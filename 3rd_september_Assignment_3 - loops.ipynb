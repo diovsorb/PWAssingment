{
 "cells": [
  {
   "cell_type": "markdown",
   "id": "2cfd6404",
   "metadata": {},
   "source": [
    "# Assignment 3"
   ]
  },
  {
   "cell_type": "markdown",
   "id": "d9c24a7b",
   "metadata": {},
   "source": [
    "# Basic Level:"
   ]
  },
  {
   "cell_type": "code",
   "execution_count": 2,
   "id": "485f20b1",
   "metadata": {},
   "outputs": [
    {
     "name": "stdout",
     "output_type": "stream",
     "text": [
      "0 1 2 3 4 5 6 7 8 9 10 "
     ]
    }
   ],
   "source": [
    "#Write a Python program to print the numbers from 1 to 10 using a `for` loop.\n",
    "for i in range(11):\n",
    "    print(i ,end=' ')"
   ]
  },
  {
   "cell_type": "code",
   "execution_count": 3,
   "id": "9be54b5b",
   "metadata": {},
   "outputs": [
    {
     "name": "stdout",
     "output_type": "stream",
     "text": [
      "55\n"
     ]
    }
   ],
   "source": [
    "#Create a program that calculates the sum of all numbers in a list using a `for` loop.\n",
    "w=[0, 1, 2, 3, 4, 5, 6, 7, 8, 9, 10]\n",
    "e=0\n",
    "for i in w:\n",
    "    e+=i\n",
    "print(e)"
   ]
  },
  {
   "cell_type": "code",
   "execution_count": 4,
   "id": "982a6976",
   "metadata": {},
   "outputs": [
    {
     "name": "stdout",
     "output_type": "stream",
     "text": [
      "[10, 9, 8, 7, 6, 5, 4, 3, 2, 1, 0]\n"
     ]
    }
   ],
   "source": [
    "#3. Write a program to print the characters of a string in reverse order using a `for` loop.\n",
    "w=[0, 1, 2, 3, 4, 5, 6, 7, 8, 9, 10]\n",
    "print(w[::-1])"
   ]
  },
  {
   "cell_type": "code",
   "execution_count": 5,
   "id": "8ec1513f",
   "metadata": {},
   "outputs": [
    {
     "name": "stdout",
     "output_type": "stream",
     "text": [
      "24\n"
     ]
    }
   ],
   "source": [
    "#Develop a program that finds the factorial of a given number using a `for` loop.\n",
    "def fact(n):\n",
    "    fa=1\n",
    "    for i in range(1,n+1):\n",
    "        fa*=i\n",
    "    return print(fa)\n",
    "fact(4)"
   ]
  },
  {
   "cell_type": "code",
   "execution_count": 10,
   "id": "a46fe285",
   "metadata": {},
   "outputs": [
    {
     "name": "stdout",
     "output_type": "stream",
     "text": [
      "1 x 4 =4\n",
      "2 x 4 =8\n",
      "3 x 4 =12\n",
      "4 x 4 =16\n",
      "5 x 4 =20\n",
      "6 x 4 =24\n",
      "7 x 4 =28\n",
      "8 x 4 =32\n",
      "9 x 4 =36\n",
      "10 x 4 =40\n"
     ]
    }
   ],
   "source": [
    "#5. Create a program to print the multiplication table of a given number using a `for` loop.\n",
    "def mutip(n):\n",
    "    for i in range(1,11):\n",
    "         print(f'{i } x {n} ={i*n}')\n",
    "mutip(4)"
   ]
  },
  {
   "cell_type": "code",
   "execution_count": 13,
   "id": "8448128c",
   "metadata": {},
   "outputs": [
    {
     "data": {
      "text/plain": [
       "(5, 5)"
      ]
     },
     "execution_count": 13,
     "metadata": {},
     "output_type": "execute_result"
    }
   ],
   "source": [
    "#Write a program that counts the number of even and odd numbers in a list using a `for` loop.\n",
    "g=[10, 9, 8, 7, 6, 5, 4, 3, 2, 1]\n",
    "def odeve(n):\n",
    "    even = 0\n",
    "    odd = 0\n",
    "    for i in g:\n",
    "        if i%2==0:\n",
    "            even+=1\n",
    "        else:\n",
    "            odd+=1\n",
    "    return even,odd\n",
    "odeve(g)"
   ]
  },
  {
   "cell_type": "code",
   "execution_count": 15,
   "id": "9160cf82",
   "metadata": {},
   "outputs": [
    {
     "name": "stdout",
     "output_type": "stream",
     "text": [
      "1 4 9 16 25 "
     ]
    }
   ],
   "source": [
    "#Develop a program that prints the squares of numbers from 1 to 5 using a `for` loop.\n",
    "for i in range(1,6):\n",
    "    print(i**2 , end=' ')"
   ]
  },
  {
   "cell_type": "code",
   "execution_count": 17,
   "id": "ce9c5db6",
   "metadata": {},
   "outputs": [
    {
     "name": "stdout",
     "output_type": "stream",
     "text": [
      "21\n"
     ]
    }
   ],
   "source": [
    "#Create a program to find the length of a string without using the `len()` function.\n",
    "s=0\n",
    "df='weweewewewewewewewewe'\n",
    "for i in df:\n",
    "    s+=1\n",
    "print(s)"
   ]
  },
  {
   "cell_type": "code",
   "execution_count": 20,
   "id": "0c69330a",
   "metadata": {},
   "outputs": [
    {
     "name": "stdout",
     "output_type": "stream",
     "text": [
      "avg:  11\n"
     ]
    }
   ],
   "source": [
    "#Write a program that calculates the average of a list of numbers using a `for` loop.\n",
    "gf=[1 ,4 ,9 ,16 ,25 ]\n",
    "g=0\n",
    "q=len(gf)\n",
    "for i in gf:\n",
    "    g+=i\n",
    "print('avg: ',g//q)"
   ]
  },
  {
   "cell_type": "code",
   "execution_count": 23,
   "id": "f8df691f",
   "metadata": {},
   "outputs": [
    {
     "name": "stdout",
     "output_type": "stream",
     "text": [
      "1 2 3 5 8 13 "
     ]
    }
   ],
   "source": [
    "#Develop a program that prints the first `n` Fibonacci numbers using a `for` loop.\n",
    "def fab(m):\n",
    "    a=0\n",
    "    b=1\n",
    "    for i in range(m):\n",
    "        c=a+b\n",
    "        a=b\n",
    "        b=c\n",
    "        print (c, end=' ')\n",
    "fab(6)"
   ]
  },
  {
   "cell_type": "markdown",
   "id": "de08e2d2",
   "metadata": {},
   "source": [
    "# Intermediate Level:"
   ]
  },
  {
   "cell_type": "code",
   "execution_count": 26,
   "id": "4422bbfc",
   "metadata": {},
   "outputs": [
    {
     "name": "stdout",
     "output_type": "stream",
     "text": [
      "yes duplicate present\n"
     ]
    }
   ],
   "source": [
    "#11. Write a program to check if a given list contains any duplicates using a `for` loop.\n",
    "w=[1,2,3,4,4,5,6,7,5]\n",
    "for i in range(len(w)):\n",
    "    for j in range(i+1,len(w)):\n",
    "        if w[i]==w[j]:\n",
    "            d=True\n",
    "            break\n",
    "if d:\n",
    "    print('yes duplicate present')\n",
    "else:\n",
    "    print('no')"
   ]
  },
  {
   "cell_type": "code",
   "execution_count": 42,
   "id": "ae752a57",
   "metadata": {},
   "outputs": [
    {
     "name": "stdout",
     "output_type": "stream",
     "text": [
      "enter no: 56\n"
     ]
    },
    {
     "data": {
      "text/plain": [
       "[1, 2, 3, 5, 7, 11, 13, 17, 19, 23, 29, 31, 37, 41, 43, 47, 53]"
      ]
     },
     "execution_count": 42,
     "metadata": {},
     "output_type": "execute_result"
    }
   ],
   "source": [
    "#Create a program that prints the prime numbers in a given range using a `for` loop.\n",
    "d=[1,2,3]\n",
    "n=int(input('enter no: '))\n",
    "def isprime(n):\n",
    "    for i in range(4,n+1):\n",
    "        for j in range(2,i):\n",
    "            if i%j==0:\n",
    "                break\n",
    "        else:\n",
    "            d.append(i)\n",
    "    return d\n",
    "isprime(n)"
   ]
  },
  {
   "cell_type": "code",
   "execution_count": 45,
   "id": "839da4ce",
   "metadata": {},
   "outputs": [
    {
     "name": "stdout",
     "output_type": "stream",
     "text": [
      "enter str: soham is \n"
     ]
    },
    {
     "data": {
      "text/plain": [
       "3"
      ]
     },
     "execution_count": 45,
     "metadata": {},
     "output_type": "execute_result"
    }
   ],
   "source": [
    "#Develop a program that counts the number of vowels in a string using a `for` loop.\n",
    "n=input('enter str: ')\n",
    "def vow(n):\n",
    "    s=0\n",
    "    for i in n:\n",
    "        if i in \"aeiou\":\n",
    "            s+=1\n",
    "    return s\n",
    "vow(n)"
   ]
  },
  {
   "cell_type": "code",
   "execution_count": 20,
   "id": "9f05d197",
   "metadata": {},
   "outputs": [
    {
     "data": {
      "text/plain": [
       "6"
      ]
     },
     "execution_count": 20,
     "metadata": {},
     "output_type": "execute_result"
    }
   ],
   "source": [
    "#Write a program to find the maximum element in a 2D list using a nested `for` loop.\n",
    "arr = [[1,2,3],[4,5,6]]\n",
    "for i in arr:\n",
    "        s=max(i)\n",
    "s"
   ]
  },
  {
   "cell_type": "code",
   "execution_count": 2,
   "id": "ceb16ce6",
   "metadata": {},
   "outputs": [
    {
     "data": {
      "text/plain": [
       "[1, 3, 5, 5, 7]"
      ]
     },
     "execution_count": 2,
     "metadata": {},
     "output_type": "execute_result"
    }
   ],
   "source": [
    "#Create a program that removes all occurrences of a specific element from a list using a `for` loop.\n",
    "ar=[1,2,3,4,5,5,6,7,8]\n",
    "for i in ar:\n",
    "    int(i)\n",
    "    if i%2==0:\n",
    "        ar.remove(i)\n",
    "ar"
   ]
  },
  {
   "cell_type": "code",
   "execution_count": 1,
   "id": "c3fc6efa",
   "metadata": {},
   "outputs": [
    {
     "name": "stdout",
     "output_type": "stream",
     "text": [
      "1 x 1 =1\n",
      "1 x 2 =2\n",
      "1 x 3 =3\n",
      "1 x 4 =4\n",
      "1 x 5 =5\n",
      "1 x 6 =6\n",
      "1 x 7 =7\n",
      "1 x 8 =8\n",
      "1 x 9 =9\n",
      "1 x 10 =10\n",
      "2 x 1 =2\n",
      "2 x 2 =4\n",
      "2 x 3 =6\n",
      "2 x 4 =8\n",
      "2 x 5 =10\n",
      "2 x 6 =12\n",
      "2 x 7 =14\n",
      "2 x 8 =16\n",
      "2 x 9 =18\n",
      "2 x 10 =20\n",
      "3 x 1 =3\n",
      "3 x 2 =6\n",
      "3 x 3 =9\n",
      "3 x 4 =12\n",
      "3 x 5 =15\n",
      "3 x 6 =18\n",
      "3 x 7 =21\n",
      "3 x 8 =24\n",
      "3 x 9 =27\n",
      "3 x 10 =30\n",
      "4 x 1 =4\n",
      "4 x 2 =8\n",
      "4 x 3 =12\n",
      "4 x 4 =16\n",
      "4 x 5 =20\n",
      "4 x 6 =24\n",
      "4 x 7 =28\n",
      "4 x 8 =32\n",
      "4 x 9 =36\n",
      "4 x 10 =40\n",
      "5 x 1 =5\n",
      "5 x 2 =10\n",
      "5 x 3 =15\n",
      "5 x 4 =20\n",
      "5 x 5 =25\n",
      "5 x 6 =30\n",
      "5 x 7 =35\n",
      "5 x 8 =40\n",
      "5 x 9 =45\n",
      "5 x 10 =50\n"
     ]
    }
   ],
   "source": [
    "#Develop a program that generates a multiplication table for numbers from 1 to 5 using a nested `for` loop.\n",
    "\n",
    "q=[1,2,3,4,5]       \n",
    "for i in q:\n",
    "    for j in range(1,11):\n",
    "         print(f'{i } x {j} ={i*j}')\n",
    "        "
   ]
  },
  {
   "cell_type": "code",
   "execution_count": null,
   "id": "e90ae0c0",
   "metadata": {},
   "outputs": [],
   "source": [
    "#Write a program that converts a list of Fahrenheit temperatures to Celsius using a `for` loop."
   ]
  },
  {
   "cell_type": "code",
   "execution_count": null,
   "id": "3607e87c",
   "metadata": {},
   "outputs": [],
   "source": [
    "# Create a program to print the common elements from two lists using a `for` loop.\n",
    "q=[1,2,3,4]\n",
    "w=[5,6,7]\n",
    "for i in q:\n",
    "    for j in w:\n",
    "        if i==j:\n",
    "            print(\"yes\")\n",
    "else:\n",
    "    print('no')\n",
    "\n",
    "    \n",
    "    \n",
    "######### OR #########\n",
    "    \n",
    "        \n",
    "q=set(q)\n",
    "w=set(w)\n",
    "if q.intersection(w):\n",
    "    print('yes')\n",
    "else:\n",
    "    print('no')"
   ]
  },
  {
   "cell_type": "code",
   "execution_count": 8,
   "id": "8d3d4477",
   "metadata": {},
   "outputs": [
    {
     "name": "stdout",
     "output_type": "stream",
     "text": [
      "\n",
      "\n",
      "* \n",
      "\n",
      "* * \n",
      "\n",
      "* * * \n",
      "\n",
      "* * * * "
     ]
    }
   ],
   "source": [
    "#Develop a program that prints the pattern of right-angled triangles using a `for` loop. Use ‘*’ to draw the pattern\n",
    "for i in range(1,5):\n",
    "    print('\\n')\n",
    "    for j in range(i):\n",
    "        print(\"*\",end=' ')"
   ]
  },
  {
   "cell_type": "code",
   "execution_count": 1,
   "id": "5cbf3ad0",
   "metadata": {},
   "outputs": [],
   "source": [
    "#Write a program to find the greatest common divisor (GCD) of two numbers using a `for` loop."
   ]
  },
  {
   "cell_type": "markdown",
   "id": "a1f4dbbf",
   "metadata": {},
   "source": [
    "# Advanced Level:"
   ]
  },
  {
   "cell_type": "code",
   "execution_count": 3,
   "id": "409d9102",
   "metadata": {},
   "outputs": [
    {
     "data": {
      "text/plain": [
       "10"
      ]
     },
     "execution_count": 3,
     "metadata": {},
     "output_type": "execute_result"
    }
   ],
   "source": [
    "#Create a program that calculates the sum of the digits of numbers in a list using a list comprehension.\n",
    "w=0\n",
    "EW=[1,2,3,4]\n",
    "for x in EW : w+=x                        #list comprehension = Rather than creating an empty list and adding each element to the end, you simply define the list and its contents at the same time [expression for item in iterable if condition == True]\n",
    "w\n",
    "\n",
    "\n",
    "\n",
    "qwq = [w:=w+x for x in EW]\n",
    "w"
   ]
  },
  {
   "cell_type": "code",
   "execution_count": 16,
   "id": "32f5f6d1",
   "metadata": {},
   "outputs": [
    {
     "name": "stdout",
     "output_type": "stream",
     "text": [
      "enter ur no.: 45\n",
      "prime factors :  [1, 3, 5]\n",
      "prime factors :  [1, 3, 5]\n"
     ]
    }
   ],
   "source": [
    "#Write a program to find the prime factors of a given number using a `for` loop and list comprehension.\n",
    "\n",
    "w=int(input('enter ur no.: '))\n",
    "q=[]\n",
    "for i in range(1,w):\n",
    "    if w%i==0:\n",
    "        for y in range(2,i):\n",
    "            if i%y==0:\n",
    "                break\n",
    "        else:\n",
    "                q.append(i)\n",
    "print('prime factors : ', q)\n",
    "\n",
    "\n",
    "\n",
    "\n",
    "\n",
    "q= [i for i in range(1,w) if w%i==0 and all(i%y!=0 for y in range(2,i))]\n",
    "print('prime factors : ', q)\n"
   ]
  },
  {
   "cell_type": "code",
   "execution_count": 3,
   "id": "36924c60",
   "metadata": {},
   "outputs": [
    {
     "name": "stdout",
     "output_type": "stream",
     "text": [
      "[11, 22, 45, 53]\n"
     ]
    }
   ],
   "source": [
    "#Develop a program that extracts unique elements from a list and stores them in a new list using a list comprehension.\n",
    "a=[11,22,11,45,53]\n",
    "wq=[]\n",
    "[wq.append(i) for i in a if i not in wq]\n",
    "print(wq)"
   ]
  },
  {
   "cell_type": "code",
   "execution_count": 5,
   "id": "2dc57bbc",
   "metadata": {},
   "outputs": [
    {
     "name": "stdout",
     "output_type": "stream",
     "text": [
      "enter ur no.23\n",
      "[11, 22] "
     ]
    }
   ],
   "source": [
    "#Create a program that generates a list of all palindromic numbers up to a specified limit using a list comprehension\n",
    "w=int(input('enter ur no.'))\n",
    "pa=[]\n",
    "for i in range(10,w):\n",
    "    q=str(i)\n",
    "    r = str(i)[::-1]\n",
    "    if q==r:\n",
    "            pa.append(i)\n",
    "print(pa,end=' ')"
   ]
  },
  {
   "cell_type": "code",
   "execution_count": 9,
   "id": "01333739",
   "metadata": {},
   "outputs": [
    {
     "name": "stdout",
     "output_type": "stream",
     "text": [
      "[9, 3, 8, 3, 4, 5, 2, 8, 6, 4, 3, 1, 1, 0, 4, 5, 9, 3, 8, 3, 4, 5, 2, 8, 6, 4, 3, 1, 1, 0, 4, 5]"
     ]
    }
   ],
   "source": [
    "#Write a program to flatten a nested list using list comprehension.\n",
    "mx = [\n",
    "        [9, 3, 8, 3],\n",
    "        [4, 5, 2, 8],\n",
    "        [6, 4, 3, 1],\n",
    "        [1, 0, 4, 5],\n",
    " ]\n",
    "vc=[]\n",
    "for i in mx:\n",
    "     vc.extend(i)\n",
    "vc\n",
    "[vc.extend(i) for i in mx]\n",
    "print(vc,end='')"
   ]
  },
  {
   "cell_type": "code",
   "execution_count": 14,
   "id": "38a329c7",
   "metadata": {},
   "outputs": [
    {
     "name": "stdout",
     "output_type": "stream",
     "text": [
      "odd:  30\n",
      "even:  36\n"
     ]
    }
   ],
   "source": [
    "#Develop a program that computes the sum of even and odd numbers in a list separately using list comprehension.\n",
    "\n",
    "\n",
    "l = [9, 3, 8, 3, 4, 5, 2, 8, 6, 4, 3, 1, 1, 0, 4, 5]\n",
    "od=0\n",
    "ev=0\n",
    "[ev:=ev+i for i in l if i%2==0]\n",
    "[od:=od+i for i in l if i%2!=0]\n",
    "print(\"odd: \" , od)\n",
    "print(\"even: \", ev)\n"
   ]
  },
  {
   "cell_type": "code",
   "execution_count": 1,
   "id": "b1c314eb",
   "metadata": {},
   "outputs": [
    {
     "data": {
      "text/plain": [
       "[1, 9, 25, 49, 81]"
      ]
     },
     "execution_count": 1,
     "metadata": {},
     "output_type": "execute_result"
    }
   ],
   "source": [
    "#Create a program that generates a list of squares of odd numbers between 1 and 10 using list comprehension.\n",
    "d=[]\n",
    "for i in range(10):\n",
    "    if i%2!=0:\n",
    "        i=i**2\n",
    "        d.append(i)\n",
    "d\n",
    "\n",
    "\n",
    "\n",
    "d=[i**2 for i in range(10) if i%2!=0]\n",
    "d"
   ]
  },
  {
   "cell_type": "code",
   "execution_count": 9,
   "id": "d9f2d262",
   "metadata": {},
   "outputs": [
    {
     "ename": "TypeError",
     "evalue": "cannot convert dictionary update sequence element #0 to a sequence",
     "output_type": "error",
     "traceback": [
      "\u001b[1;31m---------------------------------------------------------------------------\u001b[0m",
      "\u001b[1;31mTypeError\u001b[0m                                 Traceback (most recent call last)",
      "Cell \u001b[1;32mIn[9], line 5\u001b[0m\n\u001b[0;32m      3\u001b[0m w\u001b[38;5;241m=\u001b[39m[\u001b[38;5;241m1\u001b[39m, \u001b[38;5;241m9\u001b[39m, \u001b[38;5;241m25\u001b[39m, \u001b[38;5;241m49\u001b[39m, \u001b[38;5;241m81\u001b[39m]\n\u001b[0;32m      4\u001b[0m qq\u001b[38;5;241m=\u001b[39mq\u001b[38;5;241m+\u001b[39mw\n\u001b[1;32m----> 5\u001b[0m \u001b[38;5;28mdict\u001b[39m(qq)\n\u001b[0;32m      6\u001b[0m qq\n",
      "\u001b[1;31mTypeError\u001b[0m: cannot convert dictionary update sequence element #0 to a sequence"
     ]
    }
   ],
   "source": [
    "#Write a program that combines two lists into a dictionary using list comprehension.\n",
    "q=[9, 3, 8, 3, 4, 5, 2, 8, 6, 4, 3, 1, 1, 0, 4, 5]\n",
    "w=[1, 9, 25, 49, 81]\n",
    "qq=q+w\n",
    "dict(qq)\n",
    "qq"
   ]
  },
  {
   "cell_type": "code",
   "execution_count": 1,
   "id": "e53da678",
   "metadata": {},
   "outputs": [
    {
     "data": {
      "text/plain": [
       "['e', 'o', 'o']"
      ]
     },
     "execution_count": 1,
     "metadata": {},
     "output_type": "execute_result"
    }
   ],
   "source": [
    "#Develop a program that extracts the vowels from a string and stores them in a list using list comprehension.\n",
    "q='hello boy'\n",
    "d=[]\n",
    "for i in q:\n",
    "    if i in 'aeiou':\n",
    "        d.append(i)\n",
    "d\n",
    "\n",
    "\n",
    "\n",
    "d=[i for i in q if i in 'aeiou']\n",
    "d"
   ]
  },
  {
   "cell_type": "code",
   "execution_count": 1,
   "id": "1833b96f",
   "metadata": {},
   "outputs": [
    {
     "data": {
      "text/plain": [
       "['s', 'o', 'h', 'a', 'm']"
      ]
     },
     "execution_count": 1,
     "metadata": {},
     "output_type": "execute_result"
    }
   ],
   "source": [
    "#Create a program that removes all non-numeric characters from a list of strings using list comprehension.\n",
    "s='soham01212121'\n",
    "w=[]\n",
    "for i in s:\n",
    "    if i in 'qwertyuioplkjhgfdsazxcvbnm':\n",
    "        w.append(i)\n",
    "w\n",
    "\n",
    "\n",
    "w=[i for i in s if i in 'qwertyuioplkjhgfdsazxcvbnm']\n",
    "w"
   ]
  },
  {
   "cell_type": "markdown",
   "id": "e4b5c017",
   "metadata": {},
   "source": [
    "# Challenge Level:"
   ]
  },
  {
   "cell_type": "code",
   "execution_count": null,
   "id": "30298868",
   "metadata": {},
   "outputs": [],
   "source": [
    "#Write a program to generate a list of prime numbers using the Sieve of Eratosthenes algorithm and list comprehension."
   ]
  },
  {
   "cell_type": "code",
   "execution_count": null,
   "id": "61246843",
   "metadata": {},
   "outputs": [],
   "source": [
    "#Create a program that generates a list of all Pythagorean triplets up to a specified limit using list comprehension."
   ]
  },
  {
   "cell_type": "code",
   "execution_count": 2,
   "id": "ab130e4f",
   "metadata": {},
   "outputs": [
    {
     "name": "stdout",
     "output_type": "stream",
     "text": [
      "['15', '51', '16', '61', '17', '71', '18', '81', '25', '52', '26', '62', '27', '72', '28', '82', '35', '53', '36', '63', '37', '73', '38', '83', '45', '54', '46', '64', '47', '74', '48', '84'] "
     ]
    }
   ],
   "source": [
    "#Develop a program that generates a list of all possible combinations of two lists using list comprehension.\n",
    "s=['1','2','3','4']\n",
    "o=['5','6','7','8']\n",
    "so=[]\n",
    "for i in s:\n",
    "    [(so.append(i+y),so.append(y+i)) for y in o]\n",
    "print(so,end=' ')"
   ]
  },
  {
   "cell_type": "code",
   "execution_count": 10,
   "id": "59b5ae7a",
   "metadata": {},
   "outputs": [
    {
     "name": "stdout",
     "output_type": "stream",
     "text": [
      "18.5 2 3\n"
     ]
    }
   ],
   "source": [
    "#Write a program that calculates the mean, median, and mode of a list of numbers using list comprehension.\n",
    "q=[1,2,3,4,56,78,2,2]\n",
    "o=0\n",
    "qw = sorted(q)\n",
    "left=0\n",
    "right=len(qw)-1\n",
    "maax=(0,0)\n",
    "for i in qw:\n",
    "    o+=i\n",
    "    me=o/len(qw)                        # https://youtu.be/kxyt3ohLuDI?si=qPQnvJ61FT4LtqUO\n",
    "    occ=q.count(i)\n",
    "    if occ>maax[0]:\n",
    "        maax=(occ,i)\n",
    "    md=maax[1]\n",
    "    mid=int(left+(right-left)/2)\n",
    "    if len(qw)%2!=0:\n",
    "        med=qw[mid]\n",
    "    else:\n",
    "        med=int((qw[mid+1]+mid)/2)\n",
    "\n",
    "print(me,md,med)                      # me - mean   md - mode   med - median"
   ]
  },
  {
   "cell_type": "code",
   "execution_count": 1,
   "id": "695c9124",
   "metadata": {},
   "outputs": [],
   "source": [
    "#35. Create a program that generates Pascal's triangle up to a specified number of rows using list comprehension."
   ]
  },
  {
   "cell_type": "code",
   "execution_count": 9,
   "id": "f7f4ca8e",
   "metadata": {},
   "outputs": [
    {
     "data": {
      "text/plain": [
       "120"
      ]
     },
     "execution_count": 9,
     "metadata": {},
     "output_type": "execute_result"
    }
   ],
   "source": [
    "#Develop a program that calculates the sum of the digits of a factorial of numbers from 1 to 5 using list comprehension.\n",
    "def fac(n):\n",
    "    w=1\n",
    "    for i in range(1,n+1):\n",
    "            w*=i\n",
    "    return w\n",
    "fac(5)\n",
    "\n",
    "\n",
    "\n",
    "\n",
    "w=1\n",
    "re=[w:=w*i for i in range(1,6)]\n",
    "w"
   ]
  },
  {
   "cell_type": "code",
   "execution_count": 7,
   "id": "5bbbc01a",
   "metadata": {},
   "outputs": [
    {
     "name": "stdout",
     "output_type": "stream",
     "text": [
      "great\n",
      "['great', 'great', 'great']\n"
     ]
    }
   ],
   "source": [
    "#Write a program that finds the longest word in a sentence using list comprehension.\n",
    "w='god is great'\n",
    "q=list(w.split())\n",
    "for i in q:\n",
    "    a=max(q, key=len)\n",
    "print(a)\n",
    "\n",
    "\n",
    "\n",
    "e=[a:=max(q,key=len) for i in q]\n",
    "print(e)"
   ]
  },
  {
   "cell_type": "code",
   "execution_count": 1,
   "id": "835c2658",
   "metadata": {},
   "outputs": [
    {
     "name": "stdout",
     "output_type": "stream",
     "text": [
      "[]\n",
      "[]\n"
     ]
    }
   ],
   "source": [
    "#Create a program that filters a list of strings to include only those with more than three vowels using list comprehension.\n",
    "o = [\"god\", \"is\", \"great\"]\n",
    "re=[]\n",
    "for i in o:\n",
    "    cout=0\n",
    "    for c in i:\n",
    "        if c in 'aeiou':\n",
    "            cout+=1\n",
    "    if cout > 3:\n",
    "        re.append(i)\n",
    "print(re)\n",
    "\n",
    "\n",
    "for i in o :\n",
    "    cout=0\n",
    "    [cout:=cout+1 for c in i if c in 'aeiou']\n",
    "    if cout > 3:\n",
    "        re.append(i)\n",
    "print(re)"
   ]
  },
  {
   "cell_type": "code",
   "execution_count": 1,
   "id": "2840ee27",
   "metadata": {},
   "outputs": [
    {
     "data": {
      "text/plain": [
       "500500"
      ]
     },
     "execution_count": 1,
     "metadata": {},
     "output_type": "execute_result"
    }
   ],
   "source": [
    "#Develop a program that calculates the sum of the digits of numbers from 1 to 1000 using list comprehension.\n",
    "i=0\n",
    "[i:=i+o for o in range(1001)]\n",
    "i"
   ]
  },
  {
   "cell_type": "code",
   "execution_count": 1,
   "id": "1c19d43f",
   "metadata": {},
   "outputs": [
    {
     "name": "stdout",
     "output_type": "stream",
     "text": [
      "enter no.: 555\n"
     ]
    },
    {
     "data": {
      "text/plain": [
       "[11, 101, 131, 151, 181, 191, 313, 353, 373, 383]"
      ]
     },
     "execution_count": 1,
     "metadata": {},
     "output_type": "execute_result"
    }
   ],
   "source": [
    "#Write a program that generates a list of prime palindromic numbers using list comprehension.\n",
    "q=int(input(\"enter no.: \"))\n",
    "d=[]\n",
    "fr=[]\n",
    "for i in range(4,q):\n",
    "    for o in range(2,i):\n",
    "        if i%o==0:\n",
    "            break\n",
    "    else:\n",
    "        if i>10:\n",
    "            d.append(i)\n",
    "for i in d:\n",
    "    f=str(i)\n",
    "    r=str(i)[::-1]\n",
    "    if f==r:\n",
    "        fr.append(i)\n",
    "fr\n",
    "\n",
    "fr=[i for i in d if str(i)==str(i)[::-1] ]\n",
    "fr"
   ]
  },
  {
   "cell_type": "code",
   "execution_count": 1,
   "id": "55a6701b",
   "metadata": {},
   "outputs": [],
   "source": []
  },
  {
   "cell_type": "code",
   "execution_count": null,
   "id": "8e8de11a",
   "metadata": {},
   "outputs": [],
   "source": []
  },
  {
   "cell_type": "code",
   "execution_count": null,
   "id": "6444e0da",
   "metadata": {},
   "outputs": [],
   "source": []
  }
 ],
 "metadata": {
  "kernelspec": {
   "display_name": "Python 3 (ipykernel)",
   "language": "python",
   "name": "python3"
  },
  "language_info": {
   "codemirror_mode": {
    "name": "ipython",
    "version": 3
   },
   "file_extension": ".py",
   "mimetype": "text/x-python",
   "name": "python",
   "nbconvert_exporter": "python",
   "pygments_lexer": "ipython3",
   "version": "3.11.3"
  }
 },
 "nbformat": 4,
 "nbformat_minor": 5
}
