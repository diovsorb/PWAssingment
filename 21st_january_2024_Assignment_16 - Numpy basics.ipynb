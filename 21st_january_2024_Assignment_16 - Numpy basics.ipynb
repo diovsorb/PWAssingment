{
 "cells": [
  {
   "cell_type": "markdown",
   "id": "fbd2c4b4",
   "metadata": {},
   "source": [
    "# Assignment 16 :"
   ]
  },
  {
   "cell_type": "code",
   "execution_count": null,
   "id": "3ee73f2e",
   "metadata": {},
   "outputs": [],
   "source": [
    "# 1. What is a Python library? Why do we use Python libraries? \n",
    "a collection of related modules that contain bundles of codes that can be used in different programs. "
   ]
  },
  {
   "cell_type": "code",
   "execution_count": null,
   "id": "ef454990",
   "metadata": {},
   "outputs": [],
   "source": [
    "# 2. What is the difference between Numpy array and List? \n",
    "\"numpy is much faster in comparision to list\""
   ]
  },
  {
   "cell_type": "code",
   "execution_count": 1,
   "id": "ec3809b4",
   "metadata": {},
   "outputs": [],
   "source": [
    "import numpy as np"
   ]
  },
  {
   "cell_type": "code",
   "execution_count": 16,
   "id": "727dced1",
   "metadata": {},
   "outputs": [
    {
     "name": "stdout",
     "output_type": "stream",
     "text": [
      "shape of arr : (3, 4)\n",
      "size of arr : 12\n",
      "dimension of arr : 2\n"
     ]
    }
   ],
   "source": [
    "# 3. Find the shape, size and dimension of the following array? arr=[[1, 2, 3, 4],[5, 6, 7, 8],[9, 10, 11, 12]]\n",
    "  \n",
    "arr=[[1, 2, 3, 4],[5, 6, 7, 8],[9, 10, 11, 12]]\n",
    "print('shape of arr :',np.shape(arr))\n",
    "print('size of arr :',np.size(arr))\n",
    "print('dimension of arr :',np.ndim(arr))"
   ]
  },
  {
   "cell_type": "code",
   "execution_count": 18,
   "id": "e0c3114b",
   "metadata": {},
   "outputs": [
    {
     "data": {
      "text/plain": [
       "[1, 2, 3, 4]"
      ]
     },
     "execution_count": 18,
     "metadata": {},
     "output_type": "execute_result"
    }
   ],
   "source": [
    "# 4. Write python co^e to access the first row of the following array?  arr = [[1, 2, 3, 4],[5, 6, 7, 8],[9, 10, 11, 12]]\n",
    "    \n",
    "arr = [[1, 2, 3, 4],[5, 6, 7, 8],[9, 10, 11, 12]]\n",
    "arr[0]"
   ]
  },
  {
   "cell_type": "code",
   "execution_count": 24,
   "id": "8186d2f4",
   "metadata": {},
   "outputs": [
    {
     "data": {
      "text/plain": [
       "[[9, 10, 11, 12]]"
      ]
     },
     "execution_count": 24,
     "metadata": {},
     "output_type": "execute_result"
    }
   ],
   "source": [
    "# 5. How ^o you access the element at the thir^ row an^ fourth column from the given numpy array? arr=[[1, 2, 3, 4],[5, 6, 7, 8],[9, 10, 11, 12]]\n",
    "    \n",
    "arr=[[1, 2, 3, 4],[5, 6, 7, 8],[9, 10, 11, 12]]\n",
    "arr[2:3]"
   ]
  },
  {
   "cell_type": "code",
   "execution_count": 26,
   "id": "c1b2c6b8",
   "metadata": {},
   "outputs": [
    {
     "data": {
      "text/plain": [
       "[1, 3, 5, 7, 9, 11]"
      ]
     },
     "execution_count": 26,
     "metadata": {},
     "output_type": "execute_result"
    }
   ],
   "source": [
    "# 6. Write co^e to extract all o^^-in^exe^ elements from the given numpy array?  arr = [[1, 2, 3, 4],[5, 6, 7, 8],[9, 10, 11, 12]]\n",
    "\n",
    "arr = [[1, 2, 3, 4],[5, 6, 7, 8],[9, 10, 11, 12]]\n",
    "d=[]\n",
    "for i in arr:\n",
    "    for j in i:  \n",
    "        if j%2!=0:\n",
    "            d.append(j)\n",
    "d"
   ]
  },
  {
   "cell_type": "code",
   "execution_count": 37,
   "id": "0d17b823",
   "metadata": {},
   "outputs": [
    {
     "data": {
      "text/plain": [
       "array([[0.   , 0.125, 0.25 ],\n",
       "       [0.375, 0.5  , 0.625],\n",
       "       [0.75 , 0.875, 1.   ]])"
      ]
     },
     "execution_count": 37,
     "metadata": {},
     "output_type": "execute_result"
    }
   ],
   "source": [
    "# 7. How can you generate a ran^om 3x3 matrix with values between 0 an^ 1?\n",
    "\n",
    "np.linspace(0,1,9).reshape(3,3)"
   ]
  },
  {
   "cell_type": "code",
   "execution_count": 35,
   "id": "95b9de5f",
   "metadata": {},
   "outputs": [],
   "source": [
    "# 8. Describe the ^ifference between np.ran^om.ran^ an^ np.ran^om.ran^n?\n",
    "the major difference between np.random.randint and np.random.randn is that np.random.randn is used to generate normally distributed data "
   ]
  },
  {
   "cell_type": "code",
   "execution_count": 39,
   "id": "ea72e7ff",
   "metadata": {},
   "outputs": [
    {
     "data": {
      "text/plain": [
       "array([[[ 1,  2,  3,  4]],\n",
       "\n",
       "       [[ 5,  6,  7,  8]],\n",
       "\n",
       "       [[ 9, 10, 11, 12]]])"
      ]
     },
     "execution_count": 39,
     "metadata": {},
     "output_type": "execute_result"
    }
   ],
   "source": [
    "# 9. Write co^e to increase the ^imension of the following array? arr = [[1, 2, 3, 4],[5, 6, 7, 8],[9, 10, 11, 12]]\n",
    "arr = [[1, 2, 3, 4],[5, 6, 7, 8],[9, 10, 11, 12]]\n",
    "np.expand_dims(arr,axis=1)"
   ]
  },
  {
   "cell_type": "code",
   "execution_count": 54,
   "id": "8f4750b6",
   "metadata": {},
   "outputs": [
    {
     "data": {
      "text/plain": [
       "array([[ 1,  5,  9],\n",
       "       [ 2,  6, 10],\n",
       "       [ 3,  7, 11],\n",
       "       [ 4,  8, 12]])"
      ]
     },
     "execution_count": 54,
     "metadata": {},
     "output_type": "execute_result"
    }
   ],
   "source": [
    "# 10. How to transpose the following array in NumPy? arr = [[1, 2, 3, 4],[5, 6, 7, 8],[9, 10, 11, 12]]\n",
    "arr = np.arange(1,13).reshape(3,4)\n",
    "arr.T"
   ]
  },
  {
   "cell_type": "code",
   "execution_count": 79,
   "id": "7c86abad",
   "metadata": {},
   "outputs": [
    {
     "name": "stdout",
     "output_type": "stream",
     "text": [
      "[[ 2  4  6  8]\n",
      " [10 12 14 16]\n",
      " [18 20 22 24]]\n",
      "[[  1   4   9  16]\n",
      " [ 25  36  49  64]\n",
      " [ 81 100 121 144]]\n",
      "[[0 0 0 0]\n",
      " [0 0 0 0]\n",
      " [0 0 0 0]]\n",
      "[[ 30  70 110]\n",
      " [ 70 174 278]\n",
      " [110 278 446]]\n",
      "[[1 1 1 1]\n",
      " [1 1 1 1]\n",
      " [1 1 1 1]]\n"
     ]
    }
   ],
   "source": [
    "# 11. '''Consi^er the following matrix: Matrix A2 [[1, 2, 3, 4] [5, 6, 7, 8],[9, 10, 11, 12]] Matrix B2 [[1, 2, 3, 4] [5, 6, 7, 8],[9, 10, 11, 12]] Perform the following operation using Python1 ,+ I(dex wiLe multiplicatio' ]+ Matix multiplicatio' + Add both the maticK -+ Subtact matix B om  + Diide Matix B by A'''\n",
    "a= np.arange(1,13).reshape(3,4)\n",
    "b= np.arange(1,13).reshape(3,4)\n",
    "print(a+b)\n",
    "print(a*b)\n",
    "print(a-b)\n",
    "print(a@b.T)\n",
    "print(a//b)"
   ]
  },
  {
   "cell_type": "code",
   "execution_count": null,
   "id": "b21430d0",
   "metadata": {},
   "outputs": [],
   "source": [
    "# 12. Which function in Numpy can be used to swap the byte order of an array?\n",
    " newbyteorder() can be used to swap the byte order of an array"
   ]
  },
  {
   "cell_type": "code",
   "execution_count": null,
   "id": "5be6db12",
   "metadata": {},
   "outputs": [],
   "source": [
    "# 13. What is the significance of the np.linalg.inv function?\n",
    "to calculate the inverse of a matrix."
   ]
  },
  {
   "cell_type": "code",
   "execution_count": null,
   "id": "396d7aba",
   "metadata": {},
   "outputs": [],
   "source": [
    "# 14. What ^oes the np.reshape function ^o, an^ how is it use^?\n",
    "it reshapes the the dimension of the array"
   ]
  },
  {
   "cell_type": "code",
   "execution_count": 82,
   "id": "39838183",
   "metadata": {},
   "outputs": [
    {
     "data": {
      "text/plain": [
       "'an operation of matching the dimensions of differently shaped arrays in order to be able to perform further operations on those arrays'"
      ]
     },
     "execution_count": 82,
     "metadata": {},
     "output_type": "execute_result"
    }
   ],
   "source": [
    "# 15. What is broa^casting in Numpy?\n",
    "'an operation of matching the dimensions of differently shaped arrays in order to be able to perform further operations on those arrays'"
   ]
  }
 ],
 "metadata": {
  "kernelspec": {
   "display_name": "Python 3 (ipykernel)",
   "language": "python",
   "name": "python3"
  },
  "language_info": {
   "codemirror_mode": {
    "name": "ipython",
    "version": 3
   },
   "file_extension": ".py",
   "mimetype": "text/x-python",
   "name": "python",
   "nbconvert_exporter": "python",
   "pygments_lexer": "ipython3",
   "version": "3.11.3"
  }
 },
 "nbformat": 4,
 "nbformat_minor": 5
}
