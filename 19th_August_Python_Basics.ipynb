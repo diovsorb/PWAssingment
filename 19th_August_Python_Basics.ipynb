{
 "cells": [
  {
   "cell_type": "code",
   "execution_count": 1,
   "id": "1010c277-31ea-4635-aff8-f4875c4b8a58",
   "metadata": {},
   "outputs": [
    {
     "name": "stdin",
     "output_type": "stream",
     "text": [
      "enter no. of x : 23\n",
      "enter no. of y : 34\n"
     ]
    },
    {
     "name": "stdout",
     "output_type": "stream",
     "text": [
      "x = 34\n",
      "y = 23\n"
     ]
    }
   ],
   "source": [
    "#assignment1\n",
    "#swaping no. without using temp. var.\n",
    "x = int(input(\"enter no. of x :\"))\n",
    "y = int(input(\"enter no. of y :\"))\n",
    "\n",
    "x, y = y, x\n",
    "print(\"x =\", x)\n",
    "print(\"y =\", y)"
   ]
  },
  {
   "cell_type": "code",
   "execution_count": 2,
   "id": "7840db41-0eb2-4900-9edb-ff2888ff3098",
   "metadata": {},
   "outputs": [
    {
     "name": "stdin",
     "output_type": "stream",
     "text": [
      "enter length : 23\n",
      "enter breath : 45\n"
     ]
    },
    {
     "name": "stdout",
     "output_type": "stream",
     "text": [
      "area of rectangle :  1035\n"
     ]
    }
   ],
   "source": [
    "#calculates the area of a rectangle.\n",
    "l = int(input(\"enter length :\"))\n",
    "b = int(input(\"enter breath :\"))\n",
    "print(\"area of rectangle : \", l*b)"
   ]
  },
  {
   "cell_type": "code",
   "execution_count": 3,
   "id": "de5471c5-515e-43af-a948-89c79d2670b0",
   "metadata": {},
   "outputs": [
    {
     "name": "stdin",
     "output_type": "stream",
     "text": [
      "Enter the Temperature in Celsius :\n",
      " 24\n"
     ]
    },
    {
     "name": "stdout",
     "output_type": "stream",
     "text": [
      "Temperature in Fahrenheit : 75.2\n"
     ]
    }
   ],
   "source": [
    "#converts temperatures from Celsius to Fahrenheit.\n",
    "celsius = int(input(\"Enter the Temperature in Celsius :\\n\"))\n",
    "fahrenheit = (1.8 * celsius) + 32.\n",
    "print(\"Temperature in Fahrenheit :\", fahrenheit)"
   ]
  },
  {
   "cell_type": "code",
   "execution_count": 4,
   "id": "089102ac-ca0a-4496-9442-76f3fbb92827",
   "metadata": {},
   "outputs": [
    {
     "name": "stdin",
     "output_type": "stream",
     "text": [
      " werwrrerwrerw\n"
     ]
    },
    {
     "name": "stdout",
     "output_type": "stream",
     "text": [
      "length of string : 13\n"
     ]
    }
   ],
   "source": [
    "#prints the length of the string.\n",
    "str1= input()\n",
    "print(\"length of string :\" , len(str1))"
   ]
  },
  {
   "cell_type": "code",
   "execution_count": 1,
   "id": "d110d7e4-0d57-4506-838f-3fa1b9b68200",
   "metadata": {},
   "outputs": [
    {
     "name": "stdin",
     "output_type": "stream",
     "text": [
      "Enter ur sentence:  GOD is great\n"
     ]
    },
    {
     "name": "stdout",
     "output_type": "stream",
     "text": [
      "Number of vowels in the string:  4\n"
     ]
    }
   ],
   "source": [
    "#counts the number of vowels (a, e, i, o, u) in the string.\n",
    "str2 = input(\"Enter ur sentence: \")\n",
    "vcount=0\n",
    "for alpha in str2:\n",
    "    loweralpha= alpha.lower()\n",
    "    if loweralpha in \"aeiou\":\n",
    "        vcount+=1\n",
    "print(\"Number of vowels in the string: \", vcount)"
   ]
  },
  {
   "cell_type": "code",
   "execution_count": 2,
   "id": "ac3f6e58-5d9f-499f-bb50-903ad338aa91",
   "metadata": {},
   "outputs": [
    {
     "name": "stdin",
     "output_type": "stream",
     "text": [
      "Enter ur sentence:  pops is home\n"
     ]
    },
    {
     "name": "stdout",
     "output_type": "stream",
     "text": [
      "reversed string : emoh si spop\n"
     ]
    }
   ],
   "source": [
    "# reverse the order of characters using string slicing\n",
    "str3 = input(\"Enter ur sentence: \")\n",
    "print (\"reversed string :\", str3[::-1])"
   ]
  },
  {
   "cell_type": "code",
   "execution_count": 3,
   "id": "2d0cdd1d-1eba-4ce1-9133-b6a824c05ac1",
   "metadata": {},
   "outputs": [
    {
     "name": "stdin",
     "output_type": "stream",
     "text": [
      "Enter ur sentence:  poop\n"
     ]
    },
    {
     "name": "stdout",
     "output_type": "stream",
     "text": [
      "  is palendrom :\n"
     ]
    }
   ],
   "source": [
    "#checks if it is a palindrome\n",
    "x= input(\"Enter ur sentence: \")\n",
    "cleanx= x.replace(\" \",\"\").lower()\n",
    "reversex = cleanx[::-1]\n",
    "if cleanx==reversex :\n",
    "    print (\"  is palendrom :\")   \n",
    "else:\n",
    "    print (\" is not palendrom :\")   "
   ]
  },
  {
   "cell_type": "code",
   "execution_count": 3,
   "id": "0efbd819-0320-4123-b0e2-de5788d41d69",
   "metadata": {},
   "outputs": [
    {
     "name": "stdin",
     "output_type": "stream",
     "text": [
      "enter ur string:       hell    o\n"
     ]
    },
    {
     "name": "stdout",
     "output_type": "stream",
     "text": [
      "hell    o\n"
     ]
    }
   ],
   "source": [
    "#removes all the spaces from string   \n",
    "txt= input (\"enter ur string:\")\n",
    "print( txt.strip())  "
   ]
  }
 ],
 "metadata": {
  "kernelspec": {
   "display_name": "Python 3 (ipykernel)",
   "language": "python",
   "name": "python3"
  },
  "language_info": {
   "codemirror_mode": {
    "name": "ipython",
    "version": 3
   },
   "file_extension": ".py",
   "mimetype": "text/x-python",
   "name": "python",
   "nbconvert_exporter": "python",
   "pygments_lexer": "ipython3",
   "version": "3.10.8"
  }
 },
 "nbformat": 4,
 "nbformat_minor": 5
}
